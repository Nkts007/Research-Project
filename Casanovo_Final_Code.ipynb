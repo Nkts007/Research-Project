{
  "cells": [
    {
      "cell_type": "markdown",
      "metadata": {
        "id": "view-in-github",
        "colab_type": "text"
      },
      "source": [
        "<a href=\"https://colab.research.google.com/github/Nkts007/Research-Project/blob/main/Casanovo_Final_Code.ipynb\" target=\"_parent\"><img src=\"https://colab.research.google.com/assets/colab-badge.svg\" alt=\"Open In Colab\"/></a>"
      ]
    },
    {
      "cell_type": "markdown",
      "metadata": {
        "id": "_8bWRT2aNYen"
      },
      "source": [
        "# getting google colab into this file "
      ]
    },
    {
      "cell_type": "code",
      "execution_count": null,
      "metadata": {
        "id": "wyyjK4sxMt7K"
      },
      "outputs": [],
      "source": [
        "from google.colab import drive"
      ]
    },
    {
      "cell_type": "code",
      "execution_count": null,
      "metadata": {
        "colab": {
          "base_uri": "https://localhost:8080/"
        },
        "id": "SBxi_rrcNd7E",
        "outputId": "df72b345-53c5-41a0-8e37-c9bbb7ad1a43"
      },
      "outputs": [
        {
          "output_type": "stream",
          "name": "stdout",
          "text": [
            "Mounted at /content/drive\n"
          ]
        }
      ],
      "source": [
        "drive.mount ('/content/drive')"
      ]
    },
    {
      "cell_type": "markdown",
      "metadata": {
        "id": "V4KJCxfrN1Ux"
      },
      "source": [
        "#installing casanovo and dependecies"
      ]
    },
    {
      "cell_type": "markdown",
      "metadata": {
        "id": "x42S0duB8X1Y"
      },
      "source": [
        "Using the simplified code as a base and using my own data sets as a way to test it "
      ]
    },
    {
      "cell_type": "markdown",
      "metadata": {
        "id": "MwaylA1S98Zo"
      },
      "source": [
        "having asked the developers of casanovo to help me with the situation \n",
        "\n",
        "also runtime on this notenook is with ***GPU support*** as advised by developers\n",
        "\n",
        "https://github.com/Noble-Lab/casanovo/issues/155"
      ]
    },
    {
      "cell_type": "code",
      "execution_count": null,
      "metadata": {
        "id": "Hxu8qzOcN5ne"
      },
      "outputs": [],
      "source": [
        "! pip install pytorch-lightning==1.9 "
      ]
    },
    {
      "cell_type": "code",
      "source": [
        "!pip install tensorboard "
      ],
      "metadata": {
        "id": "g2vR1C0n6kHf"
      },
      "execution_count": null,
      "outputs": []
    },
    {
      "cell_type": "code",
      "source": [
        "!pip install casanovo"
      ],
      "metadata": {
        "id": "Pwpd0FK86j-_"
      },
      "execution_count": null,
      "outputs": []
    },
    {
      "cell_type": "code",
      "source": [
        "!pip install TensorRT\n"
      ],
      "metadata": {
        "id": "jUR4BuYy13XB"
      },
      "execution_count": null,
      "outputs": []
    },
    {
      "cell_type": "markdown",
      "source": [
        "Checking that there are no issues running the help, incase there are errors, this can e fixed before running the main programme"
      ],
      "metadata": {
        "id": "6HjCKO2tTAX4"
      }
    },
    {
      "cell_type": "code",
      "source": [
        "!casanovo --help"
      ],
      "metadata": {
        "id": "GQZ_fqorIGRF"
      },
      "execution_count": null,
      "outputs": []
    },
    {
      "cell_type": "markdown",
      "metadata": {
        "id": "T2eIPg_eNqWB"
      },
      "source": [
        "#Will casanovo run?"
      ]
    },
    {
      "cell_type": "code",
      "execution_count": null,
      "metadata": {
        "id": "mx1wtS5HOY9l"
      },
      "outputs": [],
      "source": [
        "!casanovo --mode=denovo --peak_path='/content/path_file' --output=file_name"
      ]
    },
    {
      "cell_type": "markdown",
      "metadata": {
        "id": "tdy5AnsXO09-"
      },
      "source": [
        "#check mztab file "
      ]
    },
    {
      "cell_type": "markdown",
      "metadata": {
        "id": "W8BgjIZR9JUf"
      },
      "source": [
        "The time taken is proportionate to the amount of spectra identified in the file\n",
        "\n",
        "13,000 + -> 2 hours 45 minutes (A42_1)\n",
        "\n",
        "9,000 + -> 2 hours 15 minutes  (A42_2) \n",
        "\n",
        "3,000 + -> 47 minutes (A42_3)\n",
        "\n",
        "O42 files completed on average 1 - 15 mins (600 - 5000 spectra identified)\n",
        "\n",
        "O43 files completed on average 1 - 10 mins (600 - 3000 spectra identified)\n",
        "\n",
        "\n",
        "\n",
        "\n",
        "\n",
        "\n",
        "(Casanovo Sample) 127 -> 13 seconds\n",
        "\n",
        "(Based on the files I ran in this note book) \n",
        "\n",
        "Might need to do runs sparingly per day due to limitations of google colab - especially if there is a lot of spectra ( around 3 hours for runs for free colab users) "
      ]
    },
    {
      "cell_type": "markdown",
      "source": [
        "This checks the output of the file, this makes sure that the code has prodiced PSMs before being downloaded and processed further in Galaxy"
      ],
      "metadata": {
        "id": "V4UdXvnMTgel"
      }
    },
    {
      "cell_type": "code",
      "execution_count": null,
      "metadata": {
        "id": "WYbHBxcZO47n"
      },
      "outputs": [],
      "source": [
        "! cat file_name.mztab"
      ]
    }
  ],
  "metadata": {
    "colab": {
      "provenance": [],
      "include_colab_link": true
    },
    "gpuClass": "standard",
    "kernelspec": {
      "display_name": "Python 3",
      "name": "python3"
    },
    "language_info": {
      "name": "python"
    },
    "accelerator": "GPU"
  },
  "nbformat": 4,
  "nbformat_minor": 0
}