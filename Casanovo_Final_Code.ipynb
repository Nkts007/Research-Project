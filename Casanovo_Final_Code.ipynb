{
  "cells": [
    {
      "cell_type": "markdown",
      "metadata": {
        "id": "view-in-github",
        "colab_type": "text"
      },
      "source": [
        "<a href=\"https://colab.research.google.com/github/Nkts007/Research-Project/blob/main/Casanovo_Final_Code.ipynb\" target=\"_parent\"><img src=\"https://colab.research.google.com/assets/colab-badge.svg\" alt=\"Open In Colab\"/></a>"
      ]
    },
    {
      "cell_type": "markdown",
      "metadata": {
        "id": "_8bWRT2aNYen"
      },
      "source": [
        "# getting google colab into this file "
      ]
    },
    {
      "cell_type": "code",
      "execution_count": null,
      "metadata": {
        "id": "wyyjK4sxMt7K"
      },
      "outputs": [],
      "source": [
        "from google.colab import drive"
      ]
    },
    {
      "cell_type": "code",
      "execution_count": null,
      "metadata": {
        "colab": {
          "base_uri": "https://localhost:8080/"
        },
        "id": "SBxi_rrcNd7E",
        "outputId": "df72b345-53c5-41a0-8e37-c9bbb7ad1a43"
      },
      "outputs": [
        {
          "output_type": "stream",
          "name": "stdout",
          "text": [
            "Mounted at /content/drive\n"
          ]
        }
      ],
      "source": [
        "drive.mount ('/content/drive')"
      ]
    },
    {
      "cell_type": "markdown",
      "metadata": {
        "id": "V4KJCxfrN1Ux"
      },
      "source": [
        "#installing casanovo and dependecies"
      ]
    },
    {
      "cell_type": "markdown",
      "metadata": {
        "id": "x42S0duB8X1Y"
      },
      "source": [
        "Using the simplified code as a base and using my own data sets as a way to test it "
      ]
    },
    {
      "cell_type": "markdown",
      "metadata": {
        "id": "MwaylA1S98Zo"
      },
      "source": [
        "having asked the developers of casanovo to help me with the situation \n",
        "\n",
        "also runtime on this notenook is with ***GPU support*** as advised by developers\n",
        "\n",
        "https://github.com/Noble-Lab/casanovo/issues/155"
      ]
    },
    {
      "cell_type": "code",
      "execution_count": null,
      "metadata": {
        "colab": {
          "base_uri": "https://localhost:8080/"
        },
        "id": "Hxu8qzOcN5ne",
        "outputId": "694803f6-1f41-4f4d-ed54-18ea70c591a7"
      },
      "outputs": [
        {
          "output_type": "stream",
          "name": "stdout",
          "text": [
            "Looking in indexes: https://pypi.org/simple, https://us-python.pkg.dev/colab-wheels/public/simple/\n",
            "Collecting pytorch-lightning==1.9\n",
            "  Downloading pytorch_lightning-1.9.0-py3-none-any.whl (825 kB)\n",
            "\u001b[2K     \u001b[90m━━━━━━━━━━━━━━━━━━━━━━━━━━━━━━━━━━━━━━\u001b[0m \u001b[32m825.8/825.8 kB\u001b[0m \u001b[31m19.7 MB/s\u001b[0m eta \u001b[36m0:00:00\u001b[0m\n",
            "\u001b[?25hCollecting lightning-utilities>=0.4.2\n",
            "  Downloading lightning_utilities-0.8.0-py3-none-any.whl (20 kB)\n",
            "Requirement already satisfied: fsspec[http]>2021.06.0 in /usr/local/lib/python3.10/dist-packages (from pytorch-lightning==1.9) (2023.4.0)\n",
            "Collecting torchmetrics>=0.7.0\n",
            "  Downloading torchmetrics-0.11.4-py3-none-any.whl (519 kB)\n",
            "\u001b[2K     \u001b[90m━━━━━━━━━━━━━━━━━━━━━━━━━━━━━━━━━━━━━━\u001b[0m \u001b[32m519.2/519.2 kB\u001b[0m \u001b[31m29.0 MB/s\u001b[0m eta \u001b[36m0:00:00\u001b[0m\n",
            "\u001b[?25hRequirement already satisfied: tqdm>=4.57.0 in /usr/local/lib/python3.10/dist-packages (from pytorch-lightning==1.9) (4.65.0)\n",
            "Requirement already satisfied: numpy>=1.17.2 in /usr/local/lib/python3.10/dist-packages (from pytorch-lightning==1.9) (1.22.4)\n",
            "Requirement already satisfied: typing-extensions>=4.0.0 in /usr/local/lib/python3.10/dist-packages (from pytorch-lightning==1.9) (4.5.0)\n",
            "Requirement already satisfied: packaging>=17.1 in /usr/local/lib/python3.10/dist-packages (from pytorch-lightning==1.9) (23.1)\n",
            "Requirement already satisfied: PyYAML>=5.4 in /usr/local/lib/python3.10/dist-packages (from pytorch-lightning==1.9) (6.0)\n",
            "Requirement already satisfied: torch>=1.10.0 in /usr/local/lib/python3.10/dist-packages (from pytorch-lightning==1.9) (2.0.0+cu118)\n",
            "Requirement already satisfied: requests in /usr/local/lib/python3.10/dist-packages (from fsspec[http]>2021.06.0->pytorch-lightning==1.9) (2.27.1)\n",
            "Collecting aiohttp!=4.0.0a0,!=4.0.0a1\n",
            "  Downloading aiohttp-3.8.4-cp310-cp310-manylinux_2_17_x86_64.manylinux2014_x86_64.whl (1.0 MB)\n",
            "\u001b[2K     \u001b[90m━━━━━━━━━━━━━━━━━━━━━━━━━━━━━━━━━━━━━━━━\u001b[0m \u001b[32m1.0/1.0 MB\u001b[0m \u001b[31m69.2 MB/s\u001b[0m eta \u001b[36m0:00:00\u001b[0m\n",
            "\u001b[?25hRequirement already satisfied: sympy in /usr/local/lib/python3.10/dist-packages (from torch>=1.10.0->pytorch-lightning==1.9) (1.11.1)\n",
            "Requirement already satisfied: triton==2.0.0 in /usr/local/lib/python3.10/dist-packages (from torch>=1.10.0->pytorch-lightning==1.9) (2.0.0)\n",
            "Requirement already satisfied: jinja2 in /usr/local/lib/python3.10/dist-packages (from torch>=1.10.0->pytorch-lightning==1.9) (3.1.2)\n",
            "Requirement already satisfied: filelock in /usr/local/lib/python3.10/dist-packages (from torch>=1.10.0->pytorch-lightning==1.9) (3.12.0)\n",
            "Requirement already satisfied: networkx in /usr/local/lib/python3.10/dist-packages (from torch>=1.10.0->pytorch-lightning==1.9) (3.1)\n",
            "Requirement already satisfied: cmake in /usr/local/lib/python3.10/dist-packages (from triton==2.0.0->torch>=1.10.0->pytorch-lightning==1.9) (3.25.2)\n",
            "Requirement already satisfied: lit in /usr/local/lib/python3.10/dist-packages (from triton==2.0.0->torch>=1.10.0->pytorch-lightning==1.9) (16.0.2)\n",
            "Collecting aiosignal>=1.1.2\n",
            "  Downloading aiosignal-1.3.1-py3-none-any.whl (7.6 kB)\n",
            "Collecting multidict<7.0,>=4.5\n",
            "  Downloading multidict-6.0.4-cp310-cp310-manylinux_2_17_x86_64.manylinux2014_x86_64.whl (114 kB)\n",
            "\u001b[2K     \u001b[90m━━━━━━━━━━━━━━━━━━━━━━━━━━━━━━━━━━━━━━\u001b[0m \u001b[32m114.5/114.5 kB\u001b[0m \u001b[31m14.0 MB/s\u001b[0m eta \u001b[36m0:00:00\u001b[0m\n",
            "\u001b[?25hRequirement already satisfied: attrs>=17.3.0 in /usr/local/lib/python3.10/dist-packages (from aiohttp!=4.0.0a0,!=4.0.0a1->fsspec[http]>2021.06.0->pytorch-lightning==1.9) (23.1.0)\n",
            "Collecting frozenlist>=1.1.1\n",
            "  Downloading frozenlist-1.3.3-cp310-cp310-manylinux_2_5_x86_64.manylinux1_x86_64.manylinux_2_17_x86_64.manylinux2014_x86_64.whl (149 kB)\n",
            "\u001b[2K     \u001b[90m━━━━━━━━━━━━━━━━━━━━━━━━━━━━━━━━━━━━━━\u001b[0m \u001b[32m149.6/149.6 kB\u001b[0m \u001b[31m17.5 MB/s\u001b[0m eta \u001b[36m0:00:00\u001b[0m\n",
            "\u001b[?25hRequirement already satisfied: charset-normalizer<4.0,>=2.0 in /usr/local/lib/python3.10/dist-packages (from aiohttp!=4.0.0a0,!=4.0.0a1->fsspec[http]>2021.06.0->pytorch-lightning==1.9) (2.0.12)\n",
            "Collecting async-timeout<5.0,>=4.0.0a3\n",
            "  Downloading async_timeout-4.0.2-py3-none-any.whl (5.8 kB)\n",
            "Collecting yarl<2.0,>=1.0\n",
            "  Downloading yarl-1.9.2-cp310-cp310-manylinux_2_17_x86_64.manylinux2014_x86_64.whl (268 kB)\n",
            "\u001b[2K     \u001b[90m━━━━━━━━━━━━━━━━━━━━━━━━━━━━━━━━━━━━━━\u001b[0m \u001b[32m268.8/268.8 kB\u001b[0m \u001b[31m26.7 MB/s\u001b[0m eta \u001b[36m0:00:00\u001b[0m\n",
            "\u001b[?25hRequirement already satisfied: MarkupSafe>=2.0 in /usr/local/lib/python3.10/dist-packages (from jinja2->torch>=1.10.0->pytorch-lightning==1.9) (2.1.2)\n",
            "Requirement already satisfied: idna<4,>=2.5 in /usr/local/lib/python3.10/dist-packages (from requests->fsspec[http]>2021.06.0->pytorch-lightning==1.9) (3.4)\n",
            "Requirement already satisfied: certifi>=2017.4.17 in /usr/local/lib/python3.10/dist-packages (from requests->fsspec[http]>2021.06.0->pytorch-lightning==1.9) (2022.12.7)\n",
            "Requirement already satisfied: urllib3<1.27,>=1.21.1 in /usr/local/lib/python3.10/dist-packages (from requests->fsspec[http]>2021.06.0->pytorch-lightning==1.9) (1.26.15)\n",
            "Requirement already satisfied: mpmath>=0.19 in /usr/local/lib/python3.10/dist-packages (from sympy->torch>=1.10.0->pytorch-lightning==1.9) (1.3.0)\n",
            "Installing collected packages: multidict, lightning-utilities, frozenlist, async-timeout, yarl, aiosignal, aiohttp, torchmetrics, pytorch-lightning\n",
            "Successfully installed aiohttp-3.8.4 aiosignal-1.3.1 async-timeout-4.0.2 frozenlist-1.3.3 lightning-utilities-0.8.0 multidict-6.0.4 pytorch-lightning-1.9.0 torchmetrics-0.11.4 yarl-1.9.2\n"
          ]
        }
      ],
      "source": [
        "! pip install pytorch-lightning==1.9 "
      ]
    },
    {
      "cell_type": "code",
      "source": [
        "!pip install tensorboard "
      ],
      "metadata": {
        "id": "g2vR1C0n6kHf",
        "colab": {
          "base_uri": "https://localhost:8080/"
        },
        "outputId": "2a239a0f-c5ab-4438-b772-a63f034b722b"
      },
      "execution_count": null,
      "outputs": [
        {
          "output_type": "stream",
          "name": "stdout",
          "text": [
            "Looking in indexes: https://pypi.org/simple, https://us-python.pkg.dev/colab-wheels/public/simple/\n",
            "Requirement already satisfied: tensorboard in /usr/local/lib/python3.10/dist-packages (2.12.2)\n",
            "Requirement already satisfied: protobuf>=3.19.6 in /usr/local/lib/python3.10/dist-packages (from tensorboard) (3.20.3)\n",
            "Requirement already satisfied: tensorboard-data-server<0.8.0,>=0.7.0 in /usr/local/lib/python3.10/dist-packages (from tensorboard) (0.7.0)\n",
            "Requirement already satisfied: numpy>=1.12.0 in /usr/local/lib/python3.10/dist-packages (from tensorboard) (1.22.4)\n",
            "Requirement already satisfied: setuptools>=41.0.0 in /usr/local/lib/python3.10/dist-packages (from tensorboard) (67.7.2)\n",
            "Requirement already satisfied: requests<3,>=2.21.0 in /usr/local/lib/python3.10/dist-packages (from tensorboard) (2.27.1)\n",
            "Requirement already satisfied: google-auth<3,>=1.6.3 in /usr/local/lib/python3.10/dist-packages (from tensorboard) (2.17.3)\n",
            "Requirement already satisfied: werkzeug>=1.0.1 in /usr/local/lib/python3.10/dist-packages (from tensorboard) (2.3.0)\n",
            "Requirement already satisfied: wheel>=0.26 in /usr/local/lib/python3.10/dist-packages (from tensorboard) (0.40.0)\n",
            "Requirement already satisfied: markdown>=2.6.8 in /usr/local/lib/python3.10/dist-packages (from tensorboard) (3.4.3)\n",
            "Requirement already satisfied: grpcio>=1.48.2 in /usr/local/lib/python3.10/dist-packages (from tensorboard) (1.54.0)\n",
            "Requirement already satisfied: tensorboard-plugin-wit>=1.6.0 in /usr/local/lib/python3.10/dist-packages (from tensorboard) (1.8.1)\n",
            "Requirement already satisfied: absl-py>=0.4 in /usr/local/lib/python3.10/dist-packages (from tensorboard) (1.4.0)\n",
            "Requirement already satisfied: google-auth-oauthlib<1.1,>=0.5 in /usr/local/lib/python3.10/dist-packages (from tensorboard) (1.0.0)\n",
            "Requirement already satisfied: rsa<5,>=3.1.4 in /usr/local/lib/python3.10/dist-packages (from google-auth<3,>=1.6.3->tensorboard) (4.9)\n",
            "Requirement already satisfied: pyasn1-modules>=0.2.1 in /usr/local/lib/python3.10/dist-packages (from google-auth<3,>=1.6.3->tensorboard) (0.3.0)\n",
            "Requirement already satisfied: six>=1.9.0 in /usr/local/lib/python3.10/dist-packages (from google-auth<3,>=1.6.3->tensorboard) (1.16.0)\n",
            "Requirement already satisfied: cachetools<6.0,>=2.0.0 in /usr/local/lib/python3.10/dist-packages (from google-auth<3,>=1.6.3->tensorboard) (5.3.0)\n",
            "Requirement already satisfied: requests-oauthlib>=0.7.0 in /usr/local/lib/python3.10/dist-packages (from google-auth-oauthlib<1.1,>=0.5->tensorboard) (1.3.1)\n",
            "Requirement already satisfied: charset-normalizer~=2.0.0 in /usr/local/lib/python3.10/dist-packages (from requests<3,>=2.21.0->tensorboard) (2.0.12)\n",
            "Requirement already satisfied: certifi>=2017.4.17 in /usr/local/lib/python3.10/dist-packages (from requests<3,>=2.21.0->tensorboard) (2022.12.7)\n",
            "Requirement already satisfied: idna<4,>=2.5 in /usr/local/lib/python3.10/dist-packages (from requests<3,>=2.21.0->tensorboard) (3.4)\n",
            "Requirement already satisfied: urllib3<1.27,>=1.21.1 in /usr/local/lib/python3.10/dist-packages (from requests<3,>=2.21.0->tensorboard) (1.26.15)\n",
            "Requirement already satisfied: MarkupSafe>=2.1.1 in /usr/local/lib/python3.10/dist-packages (from werkzeug>=1.0.1->tensorboard) (2.1.2)\n",
            "Requirement already satisfied: pyasn1<0.6.0,>=0.4.6 in /usr/local/lib/python3.10/dist-packages (from pyasn1-modules>=0.2.1->google-auth<3,>=1.6.3->tensorboard) (0.5.0)\n",
            "Requirement already satisfied: oauthlib>=3.0.0 in /usr/local/lib/python3.10/dist-packages (from requests-oauthlib>=0.7.0->google-auth-oauthlib<1.1,>=0.5->tensorboard) (3.2.2)\n"
          ]
        }
      ]
    },
    {
      "cell_type": "code",
      "source": [
        "!pip install casanovo"
      ],
      "metadata": {
        "id": "Pwpd0FK86j-_",
        "colab": {
          "base_uri": "https://localhost:8080/"
        },
        "outputId": "b02290ea-308a-4c49-b09e-ada28ed91327"
      },
      "execution_count": null,
      "outputs": [
        {
          "output_type": "stream",
          "name": "stdout",
          "text": [
            "Looking in indexes: https://pypi.org/simple, https://us-python.pkg.dev/colab-wheels/public/simple/\n",
            "Collecting casanovo\n",
            "  Downloading casanovo-3.3.0-py3-none-any.whl (41 kB)\n",
            "\u001b[2K     \u001b[90m━━━━━━━━━━━━━━━━━━━━━━━━━━━━━━━━━━━━━━━━\u001b[0m \u001b[32m41.4/41.4 kB\u001b[0m \u001b[31m3.5 MB/s\u001b[0m eta \u001b[36m0:00:00\u001b[0m\n",
            "\u001b[?25hRequirement already satisfied: torch>=1.9 in /usr/local/lib/python3.10/dist-packages (from casanovo) (2.0.0+cu118)\n",
            "Requirement already satisfied: appdirs in /usr/local/lib/python3.10/dist-packages (from casanovo) (1.4.4)\n",
            "Requirement already satisfied: natsort in /usr/local/lib/python3.10/dist-packages (from casanovo) (8.3.1)\n",
            "Requirement already satisfied: tqdm in /usr/local/lib/python3.10/dist-packages (from casanovo) (4.65.0)\n",
            "Requirement already satisfied: tensorboard in /usr/local/lib/python3.10/dist-packages (from casanovo) (2.12.2)\n",
            "Requirement already satisfied: PyYAML in /usr/local/lib/python3.10/dist-packages (from casanovo) (6.0)\n",
            "Requirement already satisfied: psutil in /usr/local/lib/python3.10/dist-packages (from casanovo) (5.9.5)\n",
            "Requirement already satisfied: click in /usr/local/lib/python3.10/dist-packages (from casanovo) (8.1.3)\n",
            "Requirement already satisfied: numpy in /usr/local/lib/python3.10/dist-packages (from casanovo) (1.22.4)\n",
            "Requirement already satisfied: pandas in /usr/local/lib/python3.10/dist-packages (from casanovo) (1.5.3)\n",
            "Collecting spectrum-utils\n",
            "  Downloading spectrum_utils-0.4.2-py3-none-any.whl (45 kB)\n",
            "\u001b[2K     \u001b[90m━━━━━━━━━━━━━━━━━━━━━━━━━━━━━━━━━━━━━━━━\u001b[0m \u001b[32m45.5/45.5 kB\u001b[0m \u001b[31m4.4 MB/s\u001b[0m eta \u001b[36m0:00:00\u001b[0m\n",
            "\u001b[?25hRequirement already satisfied: requests in /usr/local/lib/python3.10/dist-packages (from casanovo) (2.27.1)\n",
            "Collecting depthcharge-ms<0.2.0,>=0.1.0\n",
            "  Downloading depthcharge_ms-0.1.0-py3-none-any.whl (33 kB)\n",
            "Collecting PyGithub\n",
            "  Downloading PyGithub-1.58.1-py3-none-any.whl (312 kB)\n",
            "\u001b[2K     \u001b[90m━━━━━━━━━━━━━━━━━━━━━━━━━━━━━━━━━━━━━━\u001b[0m \u001b[32m312.5/312.5 kB\u001b[0m \u001b[31m19.5 MB/s\u001b[0m eta \u001b[36m0:00:00\u001b[0m\n",
            "\u001b[?25hRequirement already satisfied: pytorch-lightning<2.0,>=1.7 in /usr/local/lib/python3.10/dist-packages (from casanovo) (1.9.0)\n",
            "Requirement already satisfied: scikit-learn in /usr/local/lib/python3.10/dist-packages (from casanovo) (1.2.2)\n",
            "Collecting pyteomics>=4.4.2\n",
            "  Downloading pyteomics-4.6-py2.py3-none-any.whl (235 kB)\n",
            "\u001b[2K     \u001b[90m━━━━━━━━━━━━━━━━━━━━━━━━━━━━━━━━━━━━━━\u001b[0m \u001b[32m235.1/235.1 kB\u001b[0m \u001b[31m29.5 MB/s\u001b[0m eta \u001b[36m0:00:00\u001b[0m\n",
            "\u001b[?25hRequirement already satisfied: lxml>=4.9.1 in /usr/local/lib/python3.10/dist-packages (from depthcharge-ms<0.2.0,>=0.1.0->casanovo) (4.9.2)\n",
            "Collecting einops>=0.4.1\n",
            "  Downloading einops-0.6.1-py3-none-any.whl (42 kB)\n",
            "\u001b[2K     \u001b[90m━━━━━━━━━━━━━━━━━━━━━━━━━━━━━━━━━━━━━━━━\u001b[0m \u001b[32m42.2/42.2 kB\u001b[0m \u001b[31m5.6 MB/s\u001b[0m eta \u001b[36m0:00:00\u001b[0m\n",
            "\u001b[?25hRequirement already satisfied: numba>=0.48.0 in /usr/local/lib/python3.10/dist-packages (from depthcharge-ms<0.2.0,>=0.1.0->casanovo) (0.56.4)\n",
            "Requirement already satisfied: h5py>=3.7.0 in /usr/local/lib/python3.10/dist-packages (from depthcharge-ms<0.2.0,>=0.1.0->casanovo) (3.8.0)\n",
            "Requirement already satisfied: pytz>=2020.1 in /usr/local/lib/python3.10/dist-packages (from pandas->casanovo) (2022.7.1)\n",
            "Requirement already satisfied: python-dateutil>=2.8.1 in /usr/local/lib/python3.10/dist-packages (from pandas->casanovo) (2.8.2)\n",
            "Requirement already satisfied: fsspec[http]>2021.06.0 in /usr/local/lib/python3.10/dist-packages (from pytorch-lightning<2.0,>=1.7->casanovo) (2023.4.0)\n",
            "Requirement already satisfied: torchmetrics>=0.7.0 in /usr/local/lib/python3.10/dist-packages (from pytorch-lightning<2.0,>=1.7->casanovo) (0.11.4)\n",
            "Requirement already satisfied: typing-extensions>=4.0.0 in /usr/local/lib/python3.10/dist-packages (from pytorch-lightning<2.0,>=1.7->casanovo) (4.5.0)\n",
            "Requirement already satisfied: packaging>=17.1 in /usr/local/lib/python3.10/dist-packages (from pytorch-lightning<2.0,>=1.7->casanovo) (23.1)\n",
            "Requirement already satisfied: lightning-utilities>=0.4.2 in /usr/local/lib/python3.10/dist-packages (from pytorch-lightning<2.0,>=1.7->casanovo) (0.8.0)\n",
            "Requirement already satisfied: sympy in /usr/local/lib/python3.10/dist-packages (from torch>=1.9->casanovo) (1.11.1)\n",
            "Requirement already satisfied: networkx in /usr/local/lib/python3.10/dist-packages (from torch>=1.9->casanovo) (3.1)\n",
            "Requirement already satisfied: triton==2.0.0 in /usr/local/lib/python3.10/dist-packages (from torch>=1.9->casanovo) (2.0.0)\n",
            "Requirement already satisfied: filelock in /usr/local/lib/python3.10/dist-packages (from torch>=1.9->casanovo) (3.12.0)\n",
            "Requirement already satisfied: jinja2 in /usr/local/lib/python3.10/dist-packages (from torch>=1.9->casanovo) (3.1.2)\n",
            "Requirement already satisfied: cmake in /usr/local/lib/python3.10/dist-packages (from triton==2.0.0->torch>=1.9->casanovo) (3.25.2)\n",
            "Requirement already satisfied: lit in /usr/local/lib/python3.10/dist-packages (from triton==2.0.0->torch>=1.9->casanovo) (16.0.2)\n",
            "Collecting deprecated\n",
            "  Downloading Deprecated-1.2.13-py2.py3-none-any.whl (9.6 kB)\n",
            "Collecting pynacl>=1.4.0\n",
            "  Downloading PyNaCl-1.5.0-cp36-abi3-manylinux_2_17_x86_64.manylinux2014_x86_64.manylinux_2_24_x86_64.whl (856 kB)\n",
            "\u001b[2K     \u001b[90m━━━━━━━━━━━━━━━━━━━━━━━━━━━━━━━━━━━━━━\u001b[0m \u001b[32m856.7/856.7 kB\u001b[0m \u001b[31m53.2 MB/s\u001b[0m eta \u001b[36m0:00:00\u001b[0m\n",
            "\u001b[?25hCollecting pyjwt[crypto]>=2.4.0\n",
            "  Downloading PyJWT-2.6.0-py3-none-any.whl (20 kB)\n",
            "Requirement already satisfied: certifi>=2017.4.17 in /usr/local/lib/python3.10/dist-packages (from requests->casanovo) (2022.12.7)\n",
            "Requirement already satisfied: idna<4,>=2.5 in /usr/local/lib/python3.10/dist-packages (from requests->casanovo) (3.4)\n",
            "Requirement already satisfied: charset-normalizer~=2.0.0 in /usr/local/lib/python3.10/dist-packages (from requests->casanovo) (2.0.12)\n",
            "Requirement already satisfied: urllib3<1.27,>=1.21.1 in /usr/local/lib/python3.10/dist-packages (from requests->casanovo) (1.26.15)\n",
            "Requirement already satisfied: threadpoolctl>=2.0.0 in /usr/local/lib/python3.10/dist-packages (from scikit-learn->casanovo) (3.1.0)\n",
            "Requirement already satisfied: joblib>=1.1.1 in /usr/local/lib/python3.10/dist-packages (from scikit-learn->casanovo) (1.2.0)\n",
            "Requirement already satisfied: scipy>=1.3.2 in /usr/local/lib/python3.10/dist-packages (from scikit-learn->casanovo) (1.10.1)\n",
            "Collecting lark>=1.0\n",
            "  Downloading lark-1.1.5-py3-none-any.whl (107 kB)\n",
            "\u001b[2K     \u001b[90m━━━━━━━━━━━━━━━━━━━━━━━━━━━━━━━━━━━━━━\u001b[0m \u001b[32m108.0/108.0 kB\u001b[0m \u001b[31m15.0 MB/s\u001b[0m eta \u001b[36m0:00:00\u001b[0m\n",
            "\u001b[?25hRequirement already satisfied: matplotlib>=3.5 in /usr/local/lib/python3.10/dist-packages (from spectrum-utils->casanovo) (3.7.1)\n",
            "Collecting fastobo\n",
            "  Downloading fastobo-0.12.2-cp310-cp310-manylinux_2_17_x86_64.manylinux2014_x86_64.whl (2.1 MB)\n",
            "\u001b[2K     \u001b[90m━━━━━━━━━━━━━━━━━━━━━━━━━━━━━━━━━━━━━━━━\u001b[0m \u001b[32m2.1/2.1 MB\u001b[0m \u001b[31m90.8 MB/s\u001b[0m eta \u001b[36m0:00:00\u001b[0m\n",
            "\u001b[?25hRequirement already satisfied: tensorboard-data-server<0.8.0,>=0.7.0 in /usr/local/lib/python3.10/dist-packages (from tensorboard->casanovo) (0.7.0)\n",
            "Requirement already satisfied: absl-py>=0.4 in /usr/local/lib/python3.10/dist-packages (from tensorboard->casanovo) (1.4.0)\n",
            "Requirement already satisfied: google-auth<3,>=1.6.3 in /usr/local/lib/python3.10/dist-packages (from tensorboard->casanovo) (2.17.3)\n",
            "Requirement already satisfied: google-auth-oauthlib<1.1,>=0.5 in /usr/local/lib/python3.10/dist-packages (from tensorboard->casanovo) (1.0.0)\n",
            "Requirement already satisfied: tensorboard-plugin-wit>=1.6.0 in /usr/local/lib/python3.10/dist-packages (from tensorboard->casanovo) (1.8.1)\n",
            "Requirement already satisfied: wheel>=0.26 in /usr/local/lib/python3.10/dist-packages (from tensorboard->casanovo) (0.40.0)\n",
            "Requirement already satisfied: setuptools>=41.0.0 in /usr/local/lib/python3.10/dist-packages (from tensorboard->casanovo) (67.7.2)\n",
            "Requirement already satisfied: markdown>=2.6.8 in /usr/local/lib/python3.10/dist-packages (from tensorboard->casanovo) (3.4.3)\n",
            "Requirement already satisfied: grpcio>=1.48.2 in /usr/local/lib/python3.10/dist-packages (from tensorboard->casanovo) (1.54.0)\n",
            "Requirement already satisfied: werkzeug>=1.0.1 in /usr/local/lib/python3.10/dist-packages (from tensorboard->casanovo) (2.3.0)\n",
            "Requirement already satisfied: protobuf>=3.19.6 in /usr/local/lib/python3.10/dist-packages (from tensorboard->casanovo) (3.20.3)\n",
            "Requirement already satisfied: aiohttp!=4.0.0a0,!=4.0.0a1 in /usr/local/lib/python3.10/dist-packages (from fsspec[http]>2021.06.0->pytorch-lightning<2.0,>=1.7->casanovo) (3.8.4)\n",
            "Requirement already satisfied: pyasn1-modules>=0.2.1 in /usr/local/lib/python3.10/dist-packages (from google-auth<3,>=1.6.3->tensorboard->casanovo) (0.3.0)\n",
            "Requirement already satisfied: rsa<5,>=3.1.4 in /usr/local/lib/python3.10/dist-packages (from google-auth<3,>=1.6.3->tensorboard->casanovo) (4.9)\n",
            "Requirement already satisfied: cachetools<6.0,>=2.0.0 in /usr/local/lib/python3.10/dist-packages (from google-auth<3,>=1.6.3->tensorboard->casanovo) (5.3.0)\n",
            "Requirement already satisfied: six>=1.9.0 in /usr/local/lib/python3.10/dist-packages (from google-auth<3,>=1.6.3->tensorboard->casanovo) (1.16.0)\n",
            "Requirement already satisfied: requests-oauthlib>=0.7.0 in /usr/local/lib/python3.10/dist-packages (from google-auth-oauthlib<1.1,>=0.5->tensorboard->casanovo) (1.3.1)\n",
            "Requirement already satisfied: pyparsing>=2.3.1 in /usr/local/lib/python3.10/dist-packages (from matplotlib>=3.5->spectrum-utils->casanovo) (3.0.9)\n",
            "Requirement already satisfied: kiwisolver>=1.0.1 in /usr/local/lib/python3.10/dist-packages (from matplotlib>=3.5->spectrum-utils->casanovo) (1.4.4)\n",
            "Requirement already satisfied: contourpy>=1.0.1 in /usr/local/lib/python3.10/dist-packages (from matplotlib>=3.5->spectrum-utils->casanovo) (1.0.7)\n",
            "Requirement already satisfied: cycler>=0.10 in /usr/local/lib/python3.10/dist-packages (from matplotlib>=3.5->spectrum-utils->casanovo) (0.11.0)\n",
            "Requirement already satisfied: pillow>=6.2.0 in /usr/local/lib/python3.10/dist-packages (from matplotlib>=3.5->spectrum-utils->casanovo) (8.4.0)\n",
            "Requirement already satisfied: fonttools>=4.22.0 in /usr/local/lib/python3.10/dist-packages (from matplotlib>=3.5->spectrum-utils->casanovo) (4.39.3)\n",
            "Requirement already satisfied: llvmlite<0.40,>=0.39.0dev0 in /usr/local/lib/python3.10/dist-packages (from numba>=0.48.0->depthcharge-ms<0.2.0,>=0.1.0->casanovo) (0.39.1)\n",
            "Requirement already satisfied: cryptography>=3.4.0 in /usr/local/lib/python3.10/dist-packages (from pyjwt[crypto]>=2.4.0->PyGithub->casanovo) (40.0.2)\n",
            "Requirement already satisfied: cffi>=1.4.1 in /usr/local/lib/python3.10/dist-packages (from pynacl>=1.4.0->PyGithub->casanovo) (1.15.1)\n",
            "Requirement already satisfied: MarkupSafe>=2.1.1 in /usr/local/lib/python3.10/dist-packages (from werkzeug>=1.0.1->tensorboard->casanovo) (2.1.2)\n",
            "Requirement already satisfied: wrapt<2,>=1.10 in /usr/local/lib/python3.10/dist-packages (from deprecated->PyGithub->casanovo) (1.14.1)\n",
            "Requirement already satisfied: mpmath>=0.19 in /usr/local/lib/python3.10/dist-packages (from sympy->torch>=1.9->casanovo) (1.3.0)\n",
            "Requirement already satisfied: aiosignal>=1.1.2 in /usr/local/lib/python3.10/dist-packages (from aiohttp!=4.0.0a0,!=4.0.0a1->fsspec[http]>2021.06.0->pytorch-lightning<2.0,>=1.7->casanovo) (1.3.1)\n",
            "Requirement already satisfied: async-timeout<5.0,>=4.0.0a3 in /usr/local/lib/python3.10/dist-packages (from aiohttp!=4.0.0a0,!=4.0.0a1->fsspec[http]>2021.06.0->pytorch-lightning<2.0,>=1.7->casanovo) (4.0.2)\n",
            "Requirement already satisfied: yarl<2.0,>=1.0 in /usr/local/lib/python3.10/dist-packages (from aiohttp!=4.0.0a0,!=4.0.0a1->fsspec[http]>2021.06.0->pytorch-lightning<2.0,>=1.7->casanovo) (1.9.2)\n",
            "Requirement already satisfied: frozenlist>=1.1.1 in /usr/local/lib/python3.10/dist-packages (from aiohttp!=4.0.0a0,!=4.0.0a1->fsspec[http]>2021.06.0->pytorch-lightning<2.0,>=1.7->casanovo) (1.3.3)\n",
            "Requirement already satisfied: attrs>=17.3.0 in /usr/local/lib/python3.10/dist-packages (from aiohttp!=4.0.0a0,!=4.0.0a1->fsspec[http]>2021.06.0->pytorch-lightning<2.0,>=1.7->casanovo) (23.1.0)\n",
            "Requirement already satisfied: multidict<7.0,>=4.5 in /usr/local/lib/python3.10/dist-packages (from aiohttp!=4.0.0a0,!=4.0.0a1->fsspec[http]>2021.06.0->pytorch-lightning<2.0,>=1.7->casanovo) (6.0.4)\n",
            "Requirement already satisfied: pycparser in /usr/local/lib/python3.10/dist-packages (from cffi>=1.4.1->pynacl>=1.4.0->PyGithub->casanovo) (2.21)\n",
            "Requirement already satisfied: pyasn1<0.6.0,>=0.4.6 in /usr/local/lib/python3.10/dist-packages (from pyasn1-modules>=0.2.1->google-auth<3,>=1.6.3->tensorboard->casanovo) (0.5.0)\n",
            "Requirement already satisfied: oauthlib>=3.0.0 in /usr/local/lib/python3.10/dist-packages (from requests-oauthlib>=0.7.0->google-auth-oauthlib<1.1,>=0.5->tensorboard->casanovo) (3.2.2)\n",
            "Installing collected packages: pyteomics, lark, pyjwt, fastobo, einops, deprecated, pynacl, spectrum-utils, PyGithub, depthcharge-ms, casanovo\n",
            "Successfully installed PyGithub-1.58.1 casanovo-3.3.0 deprecated-1.2.13 depthcharge-ms-0.1.0 einops-0.6.1 fastobo-0.12.2 lark-1.1.5 pyjwt-2.6.0 pynacl-1.5.0 pyteomics-4.6 spectrum-utils-0.4.2\n"
          ]
        }
      ]
    },
    {
      "cell_type": "code",
      "source": [
        "!pip install TensorRT\n"
      ],
      "metadata": {
        "colab": {
          "base_uri": "https://localhost:8080/"
        },
        "id": "jUR4BuYy13XB",
        "outputId": "c2198d99-f60e-4ff9-99bd-ada35f014dda"
      },
      "execution_count": null,
      "outputs": [
        {
          "output_type": "stream",
          "name": "stdout",
          "text": [
            "Looking in indexes: https://pypi.org/simple, https://us-python.pkg.dev/colab-wheels/public/simple/\n",
            "Collecting TensorRT\n",
            "  Downloading tensorrt-8.6.1.tar.gz (16 kB)\n",
            "  Preparing metadata (setup.py) ... \u001b[?25l\u001b[?25hdone\n",
            "Building wheels for collected packages: TensorRT\n",
            "  Building wheel for TensorRT (setup.py) ... \u001b[?25l\u001b[?25hdone\n",
            "  Created wheel for TensorRT: filename=tensorrt-8.6.1-py2.py3-none-any.whl size=16983 sha256=31b7e596c373c8c77f31a0449f44f59a6b608a0da1b630a0e96c0ebcb9e3cdee\n",
            "  Stored in directory: /root/.cache/pip/wheels/6d/29/56/abdffd4c604f255b5254bef3f1c598ab7811ea020540599438\n",
            "Successfully built TensorRT\n",
            "Installing collected packages: TensorRT\n",
            "Successfully installed TensorRT-8.6.1\n"
          ]
        }
      ]
    },
    {
      "cell_type": "code",
      "source": [
        "!casanovo --help"
      ],
      "metadata": {
        "colab": {
          "base_uri": "https://localhost:8080/"
        },
        "id": "GQZ_fqorIGRF",
        "outputId": "ef2d7f4f-cea8-44de-b500-107bdbfbd688"
      },
      "execution_count": null,
      "outputs": [
        {
          "output_type": "stream",
          "name": "stdout",
          "text": [
            "2023-05-04 14:01:33.003524: I tensorflow/core/platform/cpu_feature_guard.cc:182] This TensorFlow binary is optimized to use available CPU instructions in performance-critical operations.\n",
            "To enable the following instructions: AVX2 FMA, in other operations, rebuild TensorFlow with the appropriate compiler flags.\n",
            "2023-05-04 14:01:34.350199: W tensorflow/compiler/tf2tensorrt/utils/py_utils.cc:38] TF-TRT Warning: Could not find TensorRT\n",
            "Usage: casanovo [OPTIONS]\n",
            "\n",
            "  Casanovo: De novo mass spectrometry peptide sequencing with a transformer model.\n",
            "  ================================================================================\n",
            "\n",
            "  Yilmaz, M., Fondrie, W. E., Bittremieux, W., Oh,\n",
            "  S. & Noble, W. S. De novo mass spectrometry\n",
            "  peptide sequencing with a transformer model.\n",
            "  Proceedings of the 39th International Conference\n",
            "  on Machine Learning - ICML '22 (2022)\n",
            "  doi:10.1101/2022.02.07.479481.\n",
            "\n",
            "  Official code website: https://github.com/Noble-\n",
            "  Lab/casanovo\n",
            "\n",
            "Options:\n",
            "  --mode [denovo|train|eval]  The mode in which to run Casanovo:\n",
            "                              - \"denovo\" will predict peptide sequences for\n",
            "                              unknown MS/MS spectra.\n",
            "                              - \"train\" will train a model (from scratch or by\n",
            "                              continuing training a previously trained model).\n",
            "                              - \"eval\" will evaluate the performance of a\n",
            "                              trained model using previously acquired spectrum\n",
            "                              annotations.  [required]\n",
            "  --model FILE                The file name of the\n",
            "                              model weights (.ckpt\n",
            "                              file).\n",
            "  --peak_path TEXT            The file path with\n",
            "                              peak files for\n",
            "                              predicting peptide\n",
            "                              sequences or\n",
            "                              training Casanovo.\n",
            "                              [required]\n",
            "  --peak_path_val TEXT        The file path with\n",
            "                              peak files to be\n",
            "                              used as validation\n",
            "                              data during\n",
            "                              training.\n",
            "  --config FILE               The file name of the\n",
            "                              configuration file\n",
            "                              with custom options.\n",
            "                              If not specified, a\n",
            "                              default\n",
            "                              configuration will\n",
            "                              be used.\n",
            "  --output FILE               The base output file\n",
            "                              name to store\n",
            "                              logging (extension:\n",
            "                              .log) and\n",
            "                              (optionally)\n",
            "                              prediction results\n",
            "                              (extension: .csv).\n",
            "  --help                      Show this message\n",
            "                              and exit.\n"
          ]
        }
      ]
    },
    {
      "cell_type": "markdown",
      "metadata": {
        "id": "T2eIPg_eNqWB"
      },
      "source": [
        "#is casanovo going to work?"
      ]
    },
    {
      "cell_type": "code",
      "execution_count": null,
      "metadata": {
        "colab": {
          "base_uri": "https://localhost:8080/"
        },
        "id": "mx1wtS5HOY9l",
        "outputId": "eca4d4e0-8c8d-4bd2-ea5d-40841ee205b8"
      },
      "outputs": [
        {
          "output_type": "stream",
          "name": "stdout",
          "text": [
            "2023-05-04 14:05:36.900642: I tensorflow/core/platform/cpu_feature_guard.cc:182] This TensorFlow binary is optimized to use available CPU instructions in performance-critical operations.\n",
            "To enable the following instructions: AVX2 FMA, in other operations, rebuild TensorFlow with the appropriate compiler flags.\n",
            "2023-05-04 14:05:37.765152: W tensorflow/compiler/tf2tensorrt/utils/py_utils.cc:38] TF-TRT Warning: Could not find TensorRT\n",
            "Global seed set to 454\n",
            "2023-05-04 14:05:39,811 INFO [casanovo/MainProcess] casanovo._get_model_weights : Downloading model weights file /root/.cache/casanovo/casanovo_massivekb_v3_0_0.ckpt from https://github.com/Noble-Lab/casanovo/releases/download/v3.0.0/casanovo_massivekb.ckpt\n",
            "100% 181M/181M [00:02<00:00, 66.1MB/s]\n",
            "2023-05-04 14:05:43,289 INFO [casanovo/MainProcess] casanovo.main : Casanovo version 3.3.0\n",
            "2023-05-04 14:05:43,290 DEBUG [casanovo/MainProcess] casanovo.main : mode = denovo\n",
            "2023-05-04 14:05:43,290 DEBUG [casanovo/MainProcess] casanovo.main : model = /root/.cache/casanovo/casanovo_massivekb_v3_0_0.ckpt\n",
            "2023-05-04 14:05:43,290 DEBUG [casanovo/MainProcess] casanovo.main : peak_path = /content/drive/MyDrive/Research_Project /casanovo-3.2.0/sample_data/sample_preprocessed_spectra.mgf\n",
            "2023-05-04 14:05:43,290 DEBUG [casanovo/MainProcess] casanovo.main : peak_path_val = None\n",
            "2023-05-04 14:05:43,290 DEBUG [casanovo/MainProcess] casanovo.main : config = default\n",
            "2023-05-04 14:05:43,290 DEBUG [casanovo/MainProcess] casanovo.main : output = /content/sample_file\n",
            "2023-05-04 14:05:43,290 DEBUG [casanovo/MainProcess] casanovo.main : random_seed = 454\n",
            "2023-05-04 14:05:43,290 DEBUG [casanovo/MainProcess] casanovo.main : n_peaks = 150\n",
            "2023-05-04 14:05:43,290 DEBUG [casanovo/MainProcess] casanovo.main : min_mz = 50.0\n",
            "2023-05-04 14:05:43,291 DEBUG [casanovo/MainProcess] casanovo.main : max_mz = 2500.0\n",
            "2023-05-04 14:05:43,291 DEBUG [casanovo/MainProcess] casanovo.main : min_intensity = 0.01\n",
            "2023-05-04 14:05:43,291 DEBUG [casanovo/MainProcess] casanovo.main : remove_precursor_tol = 2.0\n",
            "2023-05-04 14:05:43,291 DEBUG [casanovo/MainProcess] casanovo.main : max_charge = 10\n",
            "2023-05-04 14:05:43,291 DEBUG [casanovo/MainProcess] casanovo.main : precursor_mass_tol = 50.0\n",
            "2023-05-04 14:05:43,291 DEBUG [casanovo/MainProcess] casanovo.main : isotope_error_range = (0, 1)\n",
            "2023-05-04 14:05:43,291 DEBUG [casanovo/MainProcess] casanovo.main : min_peptide_len = 6\n",
            "2023-05-04 14:05:43,291 DEBUG [casanovo/MainProcess] casanovo.main : dim_model = 512\n",
            "2023-05-04 14:05:43,291 DEBUG [casanovo/MainProcess] casanovo.main : n_head = 8\n",
            "2023-05-04 14:05:43,291 DEBUG [casanovo/MainProcess] casanovo.main : dim_feedforward = 1024\n",
            "2023-05-04 14:05:43,291 DEBUG [casanovo/MainProcess] casanovo.main : n_layers = 9\n",
            "2023-05-04 14:05:43,291 DEBUG [casanovo/MainProcess] casanovo.main : dropout = 0.0\n",
            "2023-05-04 14:05:43,291 DEBUG [casanovo/MainProcess] casanovo.main : dim_intensity = None\n",
            "2023-05-04 14:05:43,291 DEBUG [casanovo/MainProcess] casanovo.main : custom_encoder = None\n",
            "2023-05-04 14:05:43,291 DEBUG [casanovo/MainProcess] casanovo.main : max_length = 100\n",
            "2023-05-04 14:05:43,292 DEBUG [casanovo/MainProcess] casanovo.main : residues = {'G': 57.021464, 'A': 71.037114, 'S': 87.032028, 'P': 97.052764, 'V': 99.068414, 'T': 101.04767, 'C+57.021': 160.030649, 'L': 113.084064, 'I': 113.084064, 'N': 114.042927, 'D': 115.026943, 'Q': 128.058578, 'K': 128.094963, 'E': 129.042593, 'M': 131.040485, 'H': 137.058912, 'F': 147.068414, 'R': 156.101111, 'Y': 163.063329, 'W': 186.079313, 'M+15.995': 147.0354, 'N+0.984': 115.026943, 'Q+0.984': 129.042594, '+42.011': 42.010565, '+43.006': 43.005814, '-17.027': -17.026549, '+43.006-17.027': 25.980265}\n",
            "2023-05-04 14:05:43,292 DEBUG [casanovo/MainProcess] casanovo.main : n_log = 1\n",
            "2023-05-04 14:05:43,292 DEBUG [casanovo/MainProcess] casanovo.main : tb_summarywriter = None\n",
            "2023-05-04 14:05:43,292 DEBUG [casanovo/MainProcess] casanovo.main : warmup_iters = 100000\n",
            "2023-05-04 14:05:43,292 DEBUG [casanovo/MainProcess] casanovo.main : max_iters = 600000\n",
            "2023-05-04 14:05:43,292 DEBUG [casanovo/MainProcess] casanovo.main : learning_rate = 0.0005\n",
            "2023-05-04 14:05:43,292 DEBUG [casanovo/MainProcess] casanovo.main : weight_decay = 1e-05\n",
            "2023-05-04 14:05:43,292 DEBUG [casanovo/MainProcess] casanovo.main : train_batch_size = 32\n",
            "2023-05-04 14:05:43,292 DEBUG [casanovo/MainProcess] casanovo.main : predict_batch_size = 1024\n",
            "2023-05-04 14:05:43,292 DEBUG [casanovo/MainProcess] casanovo.main : n_beams = 5\n",
            "2023-05-04 14:05:43,292 DEBUG [casanovo/MainProcess] casanovo.main : top_match = 1\n",
            "2023-05-04 14:05:43,292 DEBUG [casanovo/MainProcess] casanovo.main : logger = None\n",
            "2023-05-04 14:05:43,292 DEBUG [casanovo/MainProcess] casanovo.main : max_epochs = 30\n",
            "2023-05-04 14:05:43,292 DEBUG [casanovo/MainProcess] casanovo.main : num_sanity_val_steps = 0\n",
            "2023-05-04 14:05:43,292 DEBUG [casanovo/MainProcess] casanovo.main : train_from_scratch = True\n",
            "2023-05-04 14:05:43,293 DEBUG [casanovo/MainProcess] casanovo.main : save_model = True\n",
            "2023-05-04 14:05:43,293 DEBUG [casanovo/MainProcess] casanovo.main : model_save_folder_path = \n",
            "2023-05-04 14:05:43,293 DEBUG [casanovo/MainProcess] casanovo.main : save_weights_only = True\n",
            "2023-05-04 14:05:43,293 DEBUG [casanovo/MainProcess] casanovo.main : every_n_train_steps = 50000\n",
            "2023-05-04 14:05:43,293 DEBUG [casanovo/MainProcess] casanovo.main : no_gpu = False\n",
            "2023-05-04 14:05:43,293 DEBUG [casanovo/MainProcess] casanovo.main : n_workers = 2\n",
            "2023-05-04 14:05:43,293 INFO [casanovo/MainProcess] casanovo.main : Predict peptide sequences with Casanovo.\n",
            "2023-05-04 14:05:43,601 DEBUG [fsspec.local/MainProcess] local.__init__ : open file: /root/.cache/casanovo/casanovo_massivekb_v3_0_0.ckpt\n",
            "2023-05-04 14:05:44,124 INFO [depthcharge.data.hdf5/MainProcess] hdf5.__init__ : Reading 1 files...\n",
            "/content/drive/MyDrive/Research_Project /casanovo-3.2.0/sample_data/sample_preprocessed_spectra.mgf: 128spectra [00:00, 4988.53spectra/s]\n",
            "2023-05-04 14:05:44,578 WARNING [py.warnings/MainProcess] warnings._showwarnmsg : /usr/local/lib/python3.10/dist-packages/pytorch_lightning/trainer/connectors/accelerator_connector.py:578: LightningDeprecationWarning: The Trainer argument `auto_select_gpus` has been deprecated in v1.9.0 and will be removed in v2.0.0. Please use the function `pytorch_lightning.accelerators.find_usable_cuda_devices` instead.\n",
            "  rank_zero_deprecation(\n",
            "\n",
            "Predicting DataLoader 0:   0% 0/1 [00:00<?, ?it/s]2023-05-04 14:05:55,173 WARNING [py.warnings/MainProcess] warnings._showwarnmsg : /usr/local/lib/python3.10/dist-packages/torch/nn/modules/transformer.py:287: UserWarning: The PyTorch API of nested tensors is in prototype stage and will change in the near future. (Triggered internally at ../aten/src/ATen/NestedTensorImpl.cpp:177.)\n",
            "  output = torch._nested_tensor_from_mask(output, src_key_padding_mask.logical_not(), mask_check=False)\n",
            "\n",
            "2023-05-04 14:05:55,347 WARNING [py.warnings/MainProcess] warnings._showwarnmsg : /usr/local/lib/python3.10/dist-packages/torch/nn/functional.py:4999: UserWarning: Support for mismatched key_padding_mask and attn_mask is deprecated. Use same type for both instead.\n",
            "  warnings.warn(\n",
            "\n",
            "2023-05-04 14:05:55,450 WARNING [py.warnings/MainProcess] warnings._showwarnmsg : /usr/local/lib/python3.10/dist-packages/torch/nn/modules/activation.py:1144: UserWarning: Converting mask without torch.bool dtype to bool; this will negatively affect performance. Prefer to use a boolean mask directly. (Triggered internally at ../aten/src/ATen/native/transformers/attention.cpp:150.)\n",
            "  return torch._native_multi_head_attention(\n",
            "\n",
            "Predicting DataLoader 0: 100% 1/1 [00:07<00:00,  7.52s/it]\n"
          ]
        }
      ],
      "source": [
        "!casanovo --mode=denovo --peak_path='/content/drive/MyDrive/Research_Project /casanovo-3.2.0/sample_data/sample_preprocessed_spectra.mgf' --output=sample_file"
      ]
    },
    {
      "cell_type": "markdown",
      "metadata": {
        "id": "tdy5AnsXO09-"
      },
      "source": [
        "#check mztab file "
      ]
    },
    {
      "cell_type": "markdown",
      "metadata": {
        "id": "W8BgjIZR9JUf"
      },
      "source": [
        "The time taken is proportionate to the amount of spectra identified in the file\n",
        "\n",
        "13,000 + -> 2 hours 45 minutes (A42_1)\n",
        "\n",
        "9,000 + -> 2 hours 15 minutes  (A42_2) \n",
        "\n",
        "3,000 + -> 47 minutes (A42_3)\n",
        "\n",
        "O42 files completed on average 1 - 15 mins (600 - 5000 spectra identified)\n",
        "\n",
        "O43 files completed on average 1 - 10 mins (600 - 3000 spectra identified)\n",
        "\n",
        "\n",
        "\n",
        "\n",
        "\n",
        "\n",
        "(Casanovo Sample) 127 -> 13 seconds\n",
        "\n",
        "(Based on the files I ran in this note book) \n",
        "\n",
        "Might need to do runs sparingly per day due to limitations of google colab - especially if there is a lot of spectra ( around 3 hours for runs for free colab users) "
      ]
    },
    {
      "cell_type": "code",
      "execution_count": null,
      "metadata": {
        "colab": {
          "base_uri": "https://localhost:8080/"
        },
        "id": "WYbHBxcZO47n",
        "outputId": "87714391-fa2a-4d6e-939a-1a528dbd3446"
      },
      "outputs": [
        {
          "output_type": "stream",
          "name": "stdout",
          "text": [
            "MTD\tmzTab-version\t1.0.0\n",
            "MTD\tmzTab-mode\tSummary\n",
            "MTD\tmzTab-type\tIdentification\n",
            "MTD\tdescription\tCasanovo identification file sample_file\n",
            "MTD\tsoftware[1]\t[MS, MS:1003281, Casanovo, 3.3.0]\n",
            "MTD\tpsm_search_engine_score[1]\t[MS, MS:1001143, search engine specific score for PSMs, ]\n",
            "MTD\tfixed_mod[1]\t[UNIMOD, UNIMOD:4, Carbamidomethyl, ]\n",
            "MTD\tfixed_mod[1]-site\tC\n",
            "MTD\tvariable_mod[1]\t[UNIMOD, UNIMOD:7, Deamidated, ]\n",
            "MTD\tvariable_mod[1]-site\tN\n",
            "MTD\tvariable_mod[2]\t[UNIMOD, UNIMOD:7, Deamidated, ]\n",
            "MTD\tvariable_mod[2]-site\tQ\n",
            "MTD\tvariable_mod[3]\t[UNIMOD, UNIMOD:35, Oxidation, ]\n",
            "MTD\tvariable_mod[3]-site\tM\n",
            "MTD\tvariable_mod[4]\t[UNIMOD, UNIMOD:385, Ammonia-loss, ]\n",
            "MTD\tvariable_mod[4]-site\tN-term\n",
            "MTD\tvariable_mod[5]\t[UNIMOD, UNIMOD:1, Acetyl, ]\n",
            "MTD\tvariable_mod[5]-site\tN-term\n",
            "MTD\tvariable_mod[6]\t[UNIMOD, UNIMOD:5, Carbamyl, ]\n",
            "MTD\tvariable_mod[6]-site\tN-term\n",
            "MTD\tsoftware[1]-setting[1]\tmodel = /root/.cache/casanovo/casanovo_massivekb_v3_0_0.ckpt\n",
            "MTD\tsoftware[1]-setting[2]\tconfig_filename = default\n",
            "MTD\tsoftware[1]-setting[3]\trandom_seed = 454\n",
            "MTD\tsoftware[1]-setting[4]\tn_peaks = 150\n",
            "MTD\tsoftware[1]-setting[5]\tmin_mz = 50.0\n",
            "MTD\tsoftware[1]-setting[6]\tmax_mz = 2500.0\n",
            "MTD\tsoftware[1]-setting[7]\tmin_intensity = 0.01\n",
            "MTD\tsoftware[1]-setting[8]\tremove_precursor_tol = 2.0\n",
            "MTD\tsoftware[1]-setting[9]\tmax_charge = 10\n",
            "MTD\tsoftware[1]-setting[10]\tprecursor_mass_tol = 50.0\n",
            "MTD\tsoftware[1]-setting[11]\tisotope_error_range = (0, 1)\n",
            "MTD\tsoftware[1]-setting[12]\tmin_peptide_len = 6\n",
            "MTD\tsoftware[1]-setting[13]\tdim_model = 512\n",
            "MTD\tsoftware[1]-setting[14]\tn_head = 8\n",
            "MTD\tsoftware[1]-setting[15]\tdim_feedforward = 1024\n",
            "MTD\tsoftware[1]-setting[16]\tn_layers = 9\n",
            "MTD\tsoftware[1]-setting[17]\tdropout = 0.0\n",
            "MTD\tsoftware[1]-setting[18]\tdim_intensity = None\n",
            "MTD\tsoftware[1]-setting[19]\tcustom_encoder = None\n",
            "MTD\tsoftware[1]-setting[20]\tmax_length = 100\n",
            "MTD\tsoftware[1]-setting[22]\tn_log = 1\n",
            "MTD\tsoftware[1]-setting[23]\ttb_summarywriter = None\n",
            "MTD\tsoftware[1]-setting[24]\twarmup_iters = 100000\n",
            "MTD\tsoftware[1]-setting[25]\tmax_iters = 600000\n",
            "MTD\tsoftware[1]-setting[26]\tlearning_rate = 0.0005\n",
            "MTD\tsoftware[1]-setting[27]\tweight_decay = 1e-05\n",
            "MTD\tsoftware[1]-setting[28]\ttrain_batch_size = 32\n",
            "MTD\tsoftware[1]-setting[29]\tpredict_batch_size = 1024\n",
            "MTD\tsoftware[1]-setting[30]\tn_beams = 5\n",
            "MTD\tsoftware[1]-setting[31]\ttop_match = 1\n",
            "MTD\tsoftware[1]-setting[32]\tlogger = None\n",
            "MTD\tsoftware[1]-setting[33]\tmax_epochs = 30\n",
            "MTD\tsoftware[1]-setting[34]\tnum_sanity_val_steps = 0\n",
            "MTD\tsoftware[1]-setting[35]\ttrain_from_scratch = True\n",
            "MTD\tsoftware[1]-setting[36]\tsave_model = True\n",
            "MTD\tsoftware[1]-setting[37]\tmodel_save_folder_path = \n",
            "MTD\tsoftware[1]-setting[38]\tsave_weights_only = True\n",
            "MTD\tsoftware[1]-setting[39]\tevery_n_train_steps = 50000\n",
            "MTD\tsoftware[1]-setting[40]\tno_gpu = False\n",
            "MTD\tsoftware[1]-setting[41]\tn_workers = 2\n",
            "MTD\tms_run[1]-location\tfile:///content/drive/MyDrive/Research_Project%20/casanovo-3.2.0/sample_data/sample_preprocessed_spectra.mgf\n",
            "PSH\tsequence\tPSM_ID\taccession\tunique\tdatabase\tdatabase_version\tsearch_engine\tsearch_engine_score[1]\tmodifications\tretention_time\tcharge\texp_mass_to_charge\tcalc_mass_to_charge\tspectra_ref\tpre\tpost\tstart\tend\topt_ms_run[1]_aa_scores\n",
            "PSM\tLAHYNKR\t1\tnull\tnull\tnull\tnull\t[MS, MS:1003281, Casanovo, 3.3.0]\t0.9897757023572922\tnull\tnull\t2.0\t451.25348\t451.25376881688004\tms_run[1]:index=0\tnull\tnull\tnull\tnull\t0.98381,0.96990,0.99012,0.99486,0.99486,0.99489,0.99489\n",
            "PSM\tC+57.021GHTNNLRPK\t2\tnull\tnull\tnull\tnull\t[MS, MS:1003281, Casanovo, 3.3.0]\t0.9949582327495922\tnull\tnull\t2.0\t598.80054\t598.80128431688\tms_run[1]:index=2\tnull\tnull\tnull\tnull\t0.99737,0.99717,0.99725,0.99543,0.99735,0.99724,0.99746,0.99748,0.97673,0.99361\n",
            "PSM\tVVQEQGTHPK\t3\tnull\tnull\tnull\tnull\t[MS, MS:1003281, Casanovo, 3.3.0]\t0.994298436424949\tnull\tnull\t2.0\t561.7985\t561.79873381688\tms_run[1]:index=3\tnull\tnull\tnull\tnull\t0.99713,0.99697,0.99714,0.97526,0.99715,0.99680,0.98859,0.99680,0.99714,0.99715\n",
            "PSM\tSLSHSPGK\t4\tnull\tnull\tnull\tnull\t[MS, MS:1003281, Casanovo, 3.3.0]\t0.9958360724978976\tnull\tnull\t2.0\t406.71677\t406.71668431688\tms_run[1]:index=5\tnull\tnull\tnull\tnull\t0.99773,0.99759,0.99787,0.99791,0.99790,0.99792,0.98010,0.99758\n",
            "PSM\tHNSYTC+57.021EATHK\t5\tnull\tnull\tnull\tnull\t[MS, MS:1003281, Casanovo, 3.3.0]\t0.9981220016876856\tnull\tnull\t2.0\t674.29034\t674.29094231688\tms_run[1]:index=6\tnull\tnull\tnull\tnull\t0.99894,0.99904,0.99906,0.99893,0.98862,0.99880,0.99900,0.99906,0.99905,0.99886,0.99906\n",
            "PSM\tEKEELEK\t6\tnull\tnull\tnull\tnull\t[MS, MS:1003281, Casanovo, 3.3.0]\t0.9318980723619461\tnull\tnull\t2.0\t452.7346\t452.73473981688005\tms_run[1]:index=10\tnull\tnull\tnull\tnull\t0.96595,0.96127,0.96593,0.96568,0.96490,0.93471,0.73085\n",
            "PSM\tFAEEDKK\t7\tnull\tnull\tnull\tnull\t[MS, MS:1003281, Casanovo, 3.3.0]\t0.9945530742406845\tnull\tnull\t2.0\t433.71643\t433.71635031688004\tms_run[1]:index=11\tnull\tnull\tnull\tnull\t0.99721,0.99658,0.98049,0.99573,0.99475,0.99724,0.99716\n",
            "PSM\tAHGNGSMVR\t8\tnull\tnull\tnull\tnull\t[MS, MS:1003281, Casanovo, 3.3.0]\t0.9287764370441437\tnull\tnull\t2.0\t464.72443\t464.72451831687994\tms_run[1]:index=13\tnull\tnull\tnull\tnull\t0.91436,0.91678,0.77370,0.90095,0.96333,0.96187,0.96437,0.96383,0.96423\n",
            "PSM\tLQEEERER\t9\tnull\tnull\tnull\tnull\t[MS, MS:1003281, Casanovo, 3.3.0]\t0.9656466378106011\tnull\tnull\t2.0\t544.77\t544.77017681688\tms_run[1]:index=16\tnull\tnull\tnull\tnull\t0.84022,0.97547,0.98282,0.98247,0.98013,0.98183,0.98224,0.98281\n",
            "PSM\tTHYDKPPR\t10\tnull\tnull\tnull\tnull\t[MS, MS:1003281, Casanovo, 3.3.0]\t0.8114001701275507\tnull\tnull\t2.0\t507.26154\t507.26178681688003\tms_run[1]:index=18\tnull\tnull\tnull\tnull\t0.43847,0.89988,0.89254,0.90091,0.89436,0.56155,0.90451,0.90567\n",
            "PSM\tTESPAEALEQEEK\t11\tnull\tnull\tnull\tnull\t[MS, MS:1003281, Casanovo, 3.3.0]\t0.8464140636580331\tnull\tnull\t2.0\t731.3395\t730.8411888168802\tms_run[1]:index=19\tnull\tnull\tnull\tnull\t0.91962,0.91894,0.73982,0.47530,0.92056,0.55655,0.88066,0.91305,0.92316,0.92321,0.92320,0.90933,0.92321\n",
            "PSM\tLVEEETKK\t12\tnull\tnull\tnull\tnull\t[MS, MS:1003281, Casanovo, 3.3.0]\t0.9989887012375726\tnull\tnull\t2.0\t488.27112\t488.27148531688005\tms_run[1]:index=20\tnull\tnull\tnull\tnull\t0.99948,0.99906,0.99949,0.99829,0.99837,0.99776,0.99947,0.99948\n",
            "PSM\tKAETLGEK\t13\tnull\tnull\tnull\tnull\t[MS, MS:1003281, Casanovo, 3.3.0]\t0.9868554009331597\tnull\tnull\t2.0\t438.24524\t438.24527081688\tms_run[1]:index=21\tnull\tnull\tnull\tnull\t0.99342,0.98761,0.99336,0.99337,0.99336,0.99171,0.99338,0.94207\n",
            "PSM\tC+57.021LKPNETK\t14\tnull\tnull\tnull\tnull\t[MS, MS:1003281, Casanovo, 3.3.0]\t0.998101896709866\tnull\tnull\t2.0\t495.25775\t495.25785531688\tms_run[1]:index=22\tnull\tnull\tnull\tnull\t0.99904,0.99901,0.99627,0.99526,0.99905,0.99831,0.99789,0.99905\n",
            "PSM\tGHQALER\t15\tnull\tnull\tnull\tnull\t[MS, MS:1003281, Casanovo, 3.3.0]\t0.9938420578837395\tnull\tnull\t2.0\t405.71454\t405.71447681688\tms_run[1]:index=23\tnull\tnull\tnull\tnull\t0.98150,0.98826,0.99680,0.99685,0.99677,0.99692,0.99673\n",
            "PSM\tTNNLRPK\t16\tnull\tnull\tnull\tnull\t[MS, MS:1003281, Casanovo, 3.3.0]\t0.9806602671742439\tnull\tnull\t2.0\t421.74548\t421.74577181688005\tms_run[1]:index=24\tnull\tnull\tnull\tnull\t0.99027,0.99031,0.99031,0.99019,0.98972,0.91388,0.99032\n",
            "PSM\tADTPGHATPGHGPYAER\t17\tnull\tnull\tnull\tnull\t[MS, MS:1003281, Casanovo, 3.3.0]\t0.856707889172766\tnull\tnull\t2.0\t867.40045\t867.4031418168801\tms_run[1]:index=25\tnull\tnull\tnull\tnull\t0.90463,0.52811,0.53774,0.58119,0.85944,0.92435,0.91851,0.91680,0.92835,0.92833,0.92835,0.92835,0.92833,0.92835,0.92832,0.90311,0.92017\n",
            "PSM\tKSYTTPK\t18\tnull\tnull\tnull\tnull\t[MS, MS:1003281, Casanovo, 3.3.0]\t0.8934622891247272\tnull\tnull\t2.0\t412.72778\t412.72925231688004\tms_run[1]:index=26\tnull\tnull\tnull\tnull\t0.94266,0.94450,0.94455,0.55837,0.94465,0.94617,0.92009\n",
            "PSM\tVLEGHAEK\t19\tnull\tnull\tnull\tnull\t[MS, MS:1003281, Casanovo, 3.3.0]\t0.9957339366277059\tnull\tnull\t2.0\t441.73788\t441.73761731688\tms_run[1]:index=27\tnull\tnull\tnull\tnull\t0.99785,0.98661,0.99786,0.99787,0.99786,0.98997,0.99786,0.99786\n",
            "PSM\tLQHEATAATQK\t20\tnull\tnull\tnull\tnull\t[MS, MS:1003281, Casanovo, 3.3.0]\t0.9567460268735886\tnull\tnull\t2.0\t599.3142\t599.31474381688\tms_run[1]:index=28\tnull\tnull\tnull\tnull\t0.97821,0.92697,0.97054,0.95752,0.81362,0.97758,0.97837,0.96697,0.97837,0.97608,0.97836\n",
            "PSM\tKEAPAPPK\t21\tnull\tnull\tnull\tnull\t[MS, MS:1003281, Casanovo, 3.3.0]\t0.997762660185496\tnull\tnull\t2.0\t419.24496\t419.24507831688004\tms_run[1]:index=29\tnull\tnull\tnull\tnull\t0.99887,0.99870,0.99886,0.99289,0.99887,0.99886,0.99528,0.99867\n",
            "PSM\tERDELR\t22\tnull\tnull\tnull\tnull\t[MS, MS:1003281, Casanovo, 3.3.0]\t0.9956074953079224\tnull\tnull\t2.0\t409.2106\t409.2117663168801\tms_run[1]:index=30\tnull\tnull\tnull\tnull\t0.99733,0.99509,0.99679,0.98977,0.99757,0.99491\n",
            "PSM\tNNTVTPNKPNK\t23\tnull\tnull\tnull\tnull\t[MS, MS:1003281, Casanovo, 3.3.0]\t0.9133377422889074\tnull\tnull\t2.0\t613.8276\t613.82801681688\tms_run[1]:index=32\tnull\tnull\tnull\tnull\t0.94111,0.84883,0.95185,0.91771,0.92125,0.95665,0.95657,0.66218,0.94797,0.95063,0.94872\n",
            "PSM\tMQEHMR\t24\tnull\tnull\tnull\tnull\t[MS, MS:1003281, Casanovo, 3.3.0]\t0.998027639729636\tnull\tnull\t2.0\t416.18372\t416.18364081688\tms_run[1]:index=33\tnull\tnull\tnull\tnull\t0.99751,0.99495,0.99898,0.99852,0.99871,0.99850\n",
            "PSM\tHNSYTC+57.021AETHK\t25\tnull\tnull\tnull\tnull\t[MS, MS:1003281, Casanovo, 3.3.0]\t0.8310897275805473\tnull\tnull\t2.0\t674.29083\t674.29094231688\tms_run[1]:index=34\tnull\tnull\tnull\tnull\t0.91540,0.91112,0.91355,0.73700,0.47637,0.68784,0.88290,0.78855,0.91454,0.91473,0.91554\n",
            "PSM\tGPEPGHATPYTAGEM+15.995GR\t26\tnull\tnull\tnull\tnull\t[MS, MS:1003281, Casanovo, 3.3.0]\t-0.3303304178019365\tnull\tnull\t2.0\t867.4\t872.3913858168798\tms_run[1]:index=35\tnull\tnull\tnull\tnull\t0.64315,0.37193,0.51125,0.50445,0.82859,0.50877,0.75943,0.70543,0.83468,0.83228,0.82651,0.45393,0.79135,0.83459,0.44817,0.57588,0.78883\n",
            "PSM\tGDDETLHK\t27\tnull\tnull\tnull\tnull\t[MS, MS:1003281, Casanovo, 3.3.0]\t0.9916826287905375\tnull\tnull\t2.0\t457.71384\t457.71433481688\tms_run[1]:index=36\tnull\tnull\tnull\tnull\t0.99088,0.99424,0.99518,0.99573,0.99205,0.98501,0.98090,0.99531\n",
            "PSM\tNEKSEEEQSSASVK\t28\tnull\tnull\tnull\tnull\t[MS, MS:1003281, Casanovo, 3.3.0]\t0.9987599174181621\tnull\tnull\t2.0\t776.35913\t776.3602803168801\tms_run[1]:index=37\tnull\tnull\tnull\tnull\t0.99930,0.99929,0.99898,0.99934,0.99938,0.99933,0.99553,0.99857,0.99883,0.99840,0.99933,0.99921,0.99755,0.99897\n",
            "PSM\tSGSQVASTHVHAD\t29\tnull\tnull\tnull\tnull\t[MS, MS:1003281, Casanovo, 3.3.0]\t0.6905596687325409\tnull\tnull\t2.0\t648.29266\t648.30236831688\tms_run[1]:index=41\tnull\tnull\tnull\tnull\t0.58105,0.71102,0.83640,0.81697,0.46145,0.74319,0.84473,0.84509,0.84496,0.38911,0.58643,0.51500,0.64753\n",
            "PSM\tSSFSQHAR\t30\tnull\tnull\tnull\tnull\t[MS, MS:1003281, Casanovo, 3.3.0]\t0.9999606476889716\tnull\tnull\t2.0\t460.22247\t460.22266531687995\tms_run[1]:index=44\tnull\tnull\tnull\tnull\t0.99991,0.99997,0.99998,0.99990,0.99998,0.99998,0.99998,0.99998\n",
            "PSM\tSYTC+57.021EATHK\t31\tnull\tnull\tnull\tnull\t[MS, MS:1003281, Casanovo, 3.3.0]\t0.8813125729560852\tnull\tnull\t2.0\t548.73834\t548.74002281688\tms_run[1]:index=45\tnull\tnull\tnull\tnull\t0.94028,0.93601,0.65624,0.93548,0.66268,0.92907,0.94048,0.93179,0.94048\n",
            "PSM\tTNHTDQEGEEVK\t32\tnull\tnull\tnull\tnull\t[MS, MS:1003281, Casanovo, 3.3.0]\t0.6760175824165344\tnull\tnull\t2.0\t693.80896\t693.81021881688\tms_run[1]:index=46\tnull\tnull\tnull\tnull\t0.83417,0.83375,0.63669,0.46173,0.55639,0.43452,0.71196,0.53097,0.78566,0.63017,0.69789,0.83746\n",
            "PSM\t+43.006SLQSEETSSNSLVK\t33\tnull\tnull\tnull\tnull\t[MS, MS:1003281, Casanovo, 3.3.0]\t0.6462922748178244\tnull\tnull\t2.0\t776.3595\t776.3784688168801\tms_run[1]:index=47\tnull\tnull\tnull\tnull\t0.82096,0.82087,0.49127,0.54654,0.39237,0.42507,0.59020,0.72225,0.58789,0.81935,0.81850,0.66416,0.40897,0.67476,0.73440\n",
            "PSM\tNKPGVYTK\t34\tnull\tnull\tnull\tnull\t[MS, MS:1003281, Casanovo, 3.3.0]\t0.9975482490327623\tnull\tnull\t2.0\t453.75558\t453.75580581688007\tms_run[1]:index=49\tnull\tnull\tnull\tnull\t0.99874,0.98858,0.99877,0.99869,0.99877,0.99877,0.99873,0.99813\n",
            "PSM\tRPHETGGY\t35\tnull\tnull\tnull\tnull\t[MS, MS:1003281, Casanovo, 3.3.0]\t0.8882189558611976\tnull\tnull\t2.0\t458.71735\t458.7172123168801\tms_run[1]:index=50\tnull\tnull\tnull\tnull\t0.84380,0.94007,0.94159,0.60611,0.91627,0.94409,0.91392,0.94402\n",
            "PSM\tNHSTQHTEEHK\t36\tnull\tnull\tnull\tnull\t[MS, MS:1003281, Casanovo, 3.3.0]\t0.6512437723577023\tnull\tnull\t2.0\t674.28986\t674.30543781688\tms_run[1]:index=51\tnull\tnull\tnull\tnull\t0.72857,0.82381,0.43910,0.51093,0.60509,0.56060,0.43327,0.49643,0.82497,0.75048,0.81806\n",
            "PSM\tMLDHEGK\t37\tnull\tnull\tnull\tnull\t[MS, MS:1003281, Casanovo, 3.3.0]\t0.993848629295826\tnull\tnull\t2.0\t415.19717\t415.19727081688006\tms_run[1]:index=52\tnull\tnull\tnull\tnull\t0.99689,0.99671,0.99408,0.99692,0.97544,0.99691,0.99691\n",
            "PSM\tMHPHLSK\t38\tnull\tnull\tnull\tnull\t[MS, MS:1003281, Casanovo, 3.3.0]\t0.8796263467520475\tnull\tnull\t2.0\t425.22324\t425.22362281688\tms_run[1]:index=53\tnull\tnull\tnull\tnull\t0.93978,0.91793,0.93979,0.93981,0.93981,0.48036,0.93974\n",
            "PSM\tGRPTAAEVK\t39\tnull\tnull\tnull\tnull\t[MS, MS:1003281, Casanovo, 3.3.0]\t0.8559231162071228\tnull\tnull\t2.0\t464.76294\t464.76416231688\tms_run[1]:index=54\tnull\tnull\tnull\tnull\t0.92473,0.92629,0.92371,0.50012,0.66545,0.90717,0.92796,0.92788,0.92796\n",
            "PSM\tHSTNQLPR\t40\tnull\tnull\tnull\tnull\t[MS, MS:1003281, Casanovo, 3.3.0]\t-0.2189466522799598\tnull\tnull\t2.0\t469.7016\t476.7515858168801\tms_run[1]:index=55\tnull\tnull\tnull\tnull\t0.88632,0.78278,0.59091,0.60383,0.87750,0.89026,0.88901,0.61835\n",
            "PSM\tKQHSLLK\t41\tnull\tnull\tnull\tnull\t[MS, MS:1003281, Casanovo, 3.3.0]\t0.9956917688250542\tnull\tnull\t2.0\t427.26633\t427.26634481688\tms_run[1]:index=57\tnull\tnull\tnull\tnull\t0.99783,0.99784,0.99783,0.99785,0.99785,0.99776,0.98075\n",
            "PSM\tSTAVGSSSVK\t42\tnull\tnull\tnull\tnull\t[MS, MS:1003281, Casanovo, 3.3.0]\t0.8283993154764175\tnull\tnull\t2.0\t461.7456\t461.74563431687994\tms_run[1]:index=58\tnull\tnull\tnull\tnull\t0.82815,0.49086,0.78373,0.76635,0.76691,0.91359,0.91401,0.91415,0.90627,0.91419\n",
            "PSM\tQTQVSAQEK\t43\tnull\tnull\tnull\tnull\t[MS, MS:1003281, Casanovo, 3.3.0]\t0.7658847793936729\tnull\tnull\t2.0\t509.7619\t509.76181681688\tms_run[1]:index=59\tnull\tnull\tnull\tnull\t0.88172,0.47542,0.62803,0.63090,0.88284,0.88277,0.75618,0.83707,0.80119\n",
            "PSM\tDADDQKPGSPER\t44\tnull\tnull\tnull\tnull\t[MS, MS:1003281, Casanovo, 3.3.0]\t0.8789514692930075\tnull\tnull\t2.0\t657.7987\t657.79966281688\tms_run[1]:index=60\tnull\tnull\tnull\tnull\t0.90544,0.62034,0.77553,0.80372,0.93686,0.93947,0.93947,0.92886,0.93666,0.93418,0.85121,0.91516\n",
            "PSM\tSYTC+57.021TAEHK\t45\tnull\tnull\tnull\tnull\t[MS, MS:1003281, Casanovo, 3.3.0]\t0.8891252875328064\tnull\tnull\t2.0\t548.74005\t548.74002281688\tms_run[1]:index=61\tnull\tnull\tnull\tnull\t0.93909,0.94351,0.65113,0.73925,0.94444,0.94439,0.94041,0.90004,0.94444\n",
            "PSM\tFHQQQPR\t46\tnull\tnull\tnull\tnull\t[MS, MS:1003281, Casanovo, 3.3.0]\t0.9964778274297714\tnull\tnull\t2.0\t470.74106\t470.7410263168801\tms_run[1]:index=62\tnull\tnull\tnull\tnull\t0.99813,0.99816,0.99081,0.99284,0.99727,0.99822,0.99815\n",
            "PSM\tKVTAAMGK\t47\tnull\tnull\tnull\tnull\t[MS, MS:1003281, Casanovo, 3.3.0]\t0.9999494287702773\tnull\tnull\t2.0\t403.23355\t403.23365231688\tms_run[1]:index=63\tnull\tnull\tnull\tnull\t0.99996,0.99994,0.99992,0.99997,0.99990,0.99996,0.99996,0.99996\n",
            "PSM\tRGQAALER\t48\tnull\tnull\tnull\tnull\t[MS, MS:1003281, Casanovo, 3.3.0]\t0.9922277331352234\tnull\tnull\t2.0\t450.75415\t450.75413331688\tms_run[1]:index=65\tnull\tnull\tnull\tnull\t0.99514,0.99067,0.99604,0.99604,0.99264,0.97332,0.99397,0.99611\n",
            "PSM\tC+57.021NAGHLGSEC+57.021K\t49\tnull\tnull\tnull\tnull\t[MS, MS:1003281, Casanovo, 3.3.0]\t0.8805705929795901\tnull\tnull\t2.0\t616.7604\t616.7609723168799\tms_run[1]:index=66\tnull\tnull\tnull\tnull\t0.94004,0.94009,0.89023,0.62351,0.88399,0.93998,0.91026,0.93880,0.76693,0.85345,0.93941\n",
            "PSM\tGTFADKEK\t50\tnull\tnull\tnull\tnull\t[MS, MS:1003281, Casanovo, 3.3.0]\t0.9980196158091227\tnull\tnull\t2.0\t448.22946\t448.22962081688\tms_run[1]:index=67\tnull\tnull\tnull\tnull\t0.99901,0.99592,0.99895,0.99336,0.99900,0.99901,0.99900,0.99893\n",
            "PSM\tEEFFM+15.995HTK\t51\tnull\tnull\tnull\tnull\t[MS, MS:1003281, Casanovo, 3.3.0]\t-0.33475598941246665\tnull\tnull\t2.0\t537.7461\t542.74203831688\tms_run[1]:index=68\tnull\tnull\tnull\tnull\t0.83228,0.43892,0.82054,0.37672,0.49594,0.52663,0.83215,0.83139\n",
            "PSM\tHLDDVSK\t52\tnull\tnull\tnull\tnull\t[MS, MS:1003281, Casanovo, 3.3.0]\t0.8747078338637948\tnull\tnull\t2.0\t407.20886\t407.20869231688\tms_run[1]:index=69\tnull\tnull\tnull\tnull\t0.93731,0.93702,0.47085,0.92829,0.92207,0.92743,0.93734\n",
            "PSM\tHN+0.984SYTC+57.021EATHK\t53\tnull\tnull\tnull\tnull\t[MS, MS:1003281, Casanovo, 3.3.0]\t0.8840349738796552\tnull\tnull\t2.0\t674.78186\t674.7829503168799\tms_run[1]:index=70\tnull\tnull\tnull\tnull\t0.94150,0.94178,0.94093,0.92845,0.65510,0.93288,0.94088,0.73873,0.93911,0.76698,0.94007\n",
            "PSM\tSEEEQSGTSVK\t54\tnull\tnull\tnull\tnull\t[MS, MS:1003281, Casanovo, 3.3.0]\t0.9649926473697027\tnull\tnull\t2.0\t590.77\t590.77003481688\tms_run[1]:index=71\tnull\tnull\tnull\tnull\t0.98249,0.97720,0.98212,0.79929,0.98249,0.98247,0.98225,0.97739,0.97387,0.97535,0.98250\n",
            "PSM\tNFQAAHR\t55\tnull\tnull\tnull\tnull\t[MS, MS:1003281, Casanovo, 3.3.0]\t0.9977466985583305\tnull\tnull\t2.0\t422.2146\t422.21464381688\tms_run[1]:index=73\tnull\tnull\tnull\tnull\t0.99042,0.99872,0.99886,0.99887,0.99876,0.99887,0.99861\n",
            "PSM\tKKDDLPEEDK\t56\tnull\tnull\tnull\tnull\t[MS, MS:1003281, Casanovo, 3.3.0]\t0.9985111626711759\tnull\tnull\t2.0\t608.80597\t608.80642481688\tms_run[1]:index=74\tnull\tnull\tnull\tnull\t0.99925,0.99733,0.99897,0.99919,0.99926,0.99925,0.99920,0.99343,0.99925,0.99926\n",
            "PSM\t+42.011GSQHYPER\t57\tnull\tnull\tnull\tnull\t[MS, MS:1003281, Casanovo, 3.3.0]\t0.7510582610964776\tnull\tnull\t2.0\t508.23334\t508.23323081688005\tms_run[1]:index=75\tnull\tnull\tnull\tnull\t0.87526,0.87459,0.87546,0.87551,0.87549,0.56140,0.53839,0.47955,0.67967\n",
            "PSM\tAVEEQGDDQDSEK\t58\tnull\tnull\tnull\tnull\t[MS, MS:1003281, Casanovo, 3.3.0]\t0.9686349630355835\tnull\tnull\t2.0\t725.3017\t725.3024323168801\tms_run[1]:index=76\tnull\tnull\tnull\tnull\t0.98429,0.94674,0.98431,0.96697,0.98278,0.94757,0.91763,0.98427,0.98086,0.96579,0.97903,0.95202,0.98432\n",
            "PSM\tAYEKPPEK\t59\tnull\tnull\tnull\tnull\t[MS, MS:1003281, Casanovo, 3.3.0]\t0.9973177446259393\tnull\tnull\t2.0\t481.25323\t481.2531003168801\tms_run[1]:index=78\tnull\tnull\tnull\tnull\t0.99865,0.99728,0.99451,0.99838,0.99848,0.99733,0.99404,0.99854\n",
            "PSM\t+42.011SAEEGSTAGQDWQR\t60\tnull\tnull\tnull\tnull\t[MS, MS:1003281, Casanovo, 3.3.0]\t-0.4036620589904487\tnull\tnull\t2.0\t781.34534\t782.3371368168799\tms_run[1]:index=79\tnull\tnull\tnull\tnull\t0.61484,0.39970,0.62135,0.57328,0.48951,0.75253,0.78788,0.33793,0.59602,0.78224,0.35191,0.44746,0.48135,0.72385,0.78340\n",
            "PSM\tKGDSGTEELK\t61\tnull\tnull\tnull\tnull\t[MS, MS:1003281, Casanovo, 3.3.0]\t0.8255717564712871\tnull\tnull\t2.0\t532.2722\t532.26693131688\tms_run[1]:index=80\tnull\tnull\tnull\tnull\t0.91222,0.90876,0.68608,0.81310,0.54065,0.69211,0.91144,0.87878,0.91268,0.91269\n",
            "PSM\tRAEEAVDAQQQK\t62\tnull\tnull\tnull\tnull\t[MS, MS:1003281, Casanovo, 3.3.0]\t0.8524717677098054\tnull\tnull\t2.0\t686.8438\t686.8444053168799\tms_run[1]:index=81\tnull\tnull\tnull\tnull\t0.92616,0.92546,0.92150,0.92468,0.92622,0.90093,0.86534,0.46177,0.80550,0.67678,0.89538,0.92622\n",
            "PSM\tEENVNSPEDKR\t63\tnull\tnull\tnull\tnull\t[MS, MS:1003281, Casanovo, 3.3.0]\t0.8222312604387602\tnull\tnull\t2.0\t658.80634\t658.80748681688\tms_run[1]:index=82\tnull\tnull\tnull\tnull\t0.87103,0.90276,0.81096,0.64266,0.90959,0.91015,0.89915,0.55211,0.76812,0.78237,0.90676\n",
            "PSM\tQHTEQEASGYR\t64\tnull\tnull\tnull\tnull\t[MS, MS:1003281, Casanovo, 3.3.0]\t0.9714657912651697\tnull\tnull\t2.0\t653.29474\t653.2945438168799\tms_run[1]:index=85\tnull\tnull\tnull\tnull\t0.98199,0.85183,0.97636,0.98570,0.98570,0.97659,0.98473,0.97926,0.98572,0.98463,0.97944\n",
            "PSM\tRGYYNGTK\t65\tnull\tnull\tnull\tnull\t[MS, MS:1003281, Casanovo, 3.3.0]\t0.9794892271359762\tnull\tnull\t2.0\t479.74063\t479.74068731688004\tms_run[1]:index=86\tnull\tnull\tnull\tnull\t0.98922,0.98952,0.98909,0.98853,0.98928,0.96602,0.92444,0.98965\n",
            "PSM\tATKPLESGRTPTK\t66\tnull\tnull\tnull\tnull\t[MS, MS:1003281, Casanovo, 3.3.0]\t0.8480588777789048\tnull\tnull\t2.0\t693.391\t693.39097781688\tms_run[1]:index=87\tnull\tnull\tnull\tnull\t0.92245,0.66424,0.87690,0.47672,0.91532,0.70834,0.92399,0.92364,0.92403,0.92403,0.92379,0.84140,0.92401\n",
            "PSM\tKVQHPDVTASSK\t67\tnull\tnull\tnull\tnull\t[MS, MS:1003281, Casanovo, 3.3.0]\t0.8688658796823941\tnull\tnull\t2.0\t648.8487\t648.84895431688\tms_run[1]:index=89\tnull\tnull\tnull\tnull\t0.93412,0.92769,0.93244,0.68174,0.91794,0.78862,0.80970,0.92609,0.93437,0.64044,0.93330,0.93437\n",
            "PSM\tALHVNNDR\t68\tnull\tnull\tnull\tnull\t[MS, MS:1003281, Casanovo, 3.3.0]\t0.9603477385309007\tnull\tnull\t2.0\t469.74402\t469.74376481687995\tms_run[1]:index=90\tnull\tnull\tnull\tnull\t0.97964,0.96348,0.81907,0.98010,0.98017,0.98017,0.98017,0.98017\n",
            "PSM\tKDQLADAR\t69\tnull\tnull\tnull\tnull\t[MS, MS:1003281, Casanovo, 3.3.0]\t0.9941958122783237\tnull\tnull\t2.0\t458.74606\t458.74597381688005\tms_run[1]:index=92\tnull\tnull\tnull\tnull\t0.99681,0.99708,0.97774,0.99706,0.99710,0.99689,0.99089,0.99709\n",
            "PSM\tAGM+15.995THLVR\t70\tnull\tnull\tnull\tnull\t[MS, MS:1003281, Casanovo, 3.3.0]\t0.999686062335968\tnull\tnull\t2.0\t450.73972\t450.73963331688\tms_run[1]:index=93\tnull\tnull\tnull\tnull\t0.99917,0.99946,0.99981,0.99984,0.99980,0.99975,0.99971,0.99980\n",
            "PSM\tVC+57.021ETDTEC+57.021EAK\t71\tnull\tnull\tnull\tnull\t[MS, MS:1003281, Casanovo, 3.3.0]\t0.8993665675322214\tnull\tnull\t2.0\t671.7649\t671.26848431688\tms_run[1]:index=94\tnull\tnull\tnull\tnull\t0.92497,0.94025,0.88364,0.77512,0.81939,0.76273,0.94606,0.94491,0.94845,0.94861,0.94877\n",
            "PSM\tDNEEETTDDPRK\t72\tnull\tnull\tnull\tnull\t[MS, MS:1003281, Casanovo, 3.3.0]\t0.9639765987029443\tnull\tnull\t2.0\t724.8101\t724.81041531688\tms_run[1]:index=95\tnull\tnull\tnull\tnull\t0.90889,0.96739,0.98189,0.87769,0.97320,0.98199,0.98199,0.98087,0.98100,0.98162,0.95982,0.97336\n",
            "PSM\tLATENSTQAQSK\t73\tnull\tnull\tnull\tnull\t[MS, MS:1003281, Casanovo, 3.3.0]\t0.8338328966727624\tnull\tnull\t2.0\t639.3202\t639.32022231688\tms_run[1]:index=96\tnull\tnull\tnull\tnull\t0.91618,0.89959,0.56123,0.91188,0.51792,0.67244,0.91690,0.91511,0.90037,0.91689,0.87764,0.91678\n",
            "PSM\tSVHELEK\t74\tnull\tnull\tnull\tnull\t[MS, MS:1003281, Casanovo, 3.3.0]\t0.9984440878033638\tnull\tnull\t2.0\t421.2242\t421.22434231688004\tms_run[1]:index=97\tnull\tnull\tnull\tnull\t0.99921,0.99504,0.99921,0.99745,0.99922,0.99898,0.99922\n",
            "PSM\tSGTATAGQEAEM+15.995MK\t75\tnull\tnull\tnull\tnull\t[MS, MS:1003281, Casanovo, 3.3.0]\t0.6551708136995633\tnull\tnull\t2.0\t714.3115\t714.31068381688\tms_run[1]:index=98\tnull\tnull\tnull\tnull\t0.47094,0.37832,0.58179,0.44844,0.61398,0.78935,0.55137,0.81885,0.82648,0.80783,0.63993,0.54421,0.70124,0.82724\n",
            "PSM\tRGPC+57.021LRK\t76\tnull\tnull\tnull\tnull\t[MS, MS:1003281, Casanovo, 3.3.0]\t-0.1663838168606162\tnull\tnull\t2.0\t437.25616\t443.75562181688\tms_run[1]:index=99\tnull\tnull\tnull\tnull\t0.79492,0.91618,0.90358,0.44818,0.88082,0.91372,0.89473\n",
            "PSM\tTSYAQHQQVR\t77\tnull\tnull\tnull\tnull\t[MS, MS:1003281, Casanovo, 3.3.0]\t0.9993665760213678\tnull\tnull\t2.0\t609.3046\t609.3047148168799\tms_run[1]:index=100\tnull\tnull\tnull\tnull\t0.99940,0.99712,0.99941,0.99957,0.99968,0.99947,0.99968,0.99968,0.99966,0.99967\n",
            "PSM\tNDEELNK\t78\tnull\tnull\tnull\tnull\t[MS, MS:1003281, Casanovo, 3.3.0]\t0.9947639778256416\tnull\tnull\t2.0\t431.2012\t431.20106381688004\tms_run[1]:index=101\tnull\tnull\tnull\tnull\t0.99738,0.99723,0.99734,0.99038,0.99240,0.99029,0.99571\n",
            "PSM\tEESGKPQHVTVK\t79\tnull\tnull\tnull\tnull\t[MS, MS:1003281, Casanovo, 3.3.0]\t0.9951570400824914\tnull\tnull\t2.0\t669.8538\t669.85423681688\tms_run[1]:index=103\tnull\tnull\tnull\tnull\t0.99752,0.99737,0.99727,0.99753,0.99627,0.98198,0.99758,0.98866,0.99715,0.99758,0.99523,0.99534\n",
            "PSM\tAPTC+57.021C+57.021M+15.995C+57.021PAALLR\t80\tnull\tnull\tnull\tnull\t[MS, MS:1003281, Casanovo, 3.3.0]\t-0.392925212425845\tnull\tnull\t2.0\t775.8415\t768.8431218168798\tms_run[1]:index=105\tnull\tnull\tnull\tnull\t0.53372,0.40357,0.43194,0.39149,0.61352,0.76832,0.43535,0.46316,0.59615,0.65129,0.80271,0.80175,0.80253\n",
            "PSM\tNVHELEK\t81\tnull\tnull\tnull\tnull\t[MS, MS:1003281, Casanovo, 3.3.0]\t0.9987603276968002\tnull\tnull\t2.0\t434.7295\t434.72979181688004\tms_run[1]:index=106\tnull\tnull\tnull\tnull\t0.99938,0.99623,0.99936,0.99823,0.99938,0.99935,0.99879\n",
            "PSM\tYPNHSVDR\t82\tnull\tnull\tnull\tnull\t[MS, MS:1003281, Casanovo, 3.3.0]\t0.9929141468471951\tnull\tnull\t2.0\t494.2362\t494.23577281688\tms_run[1]:index=107\tnull\tnull\tnull\tnull\t0.99632,0.96831,0.99433,0.99645,0.99644,0.99589,0.99645,0.99559\n",
            "PSM\tPHEDSYEDDGK\t83\tnull\tnull\tnull\tnull\t[MS, MS:1003281, Casanovo, 3.3.0]\t0.7309594464798769\tnull\tnull\t2.0\t646.7648\t646.25729631688\tms_run[1]:index=111\tnull\tnull\tnull\tnull\t0.84246,0.86463,0.79755,0.57129,0.47224,0.46067,0.53318,0.77501,0.85823,0.86531,0.86548\n",
            "PSM\tNTNEETEHETAAQK\t84\tnull\tnull\tnull\tnull\t[MS, MS:1003281, Casanovo, 3.3.0]\t-0.40830580393473304\tnull\tnull\t2.0\t804.3514\t801.3555173168801\tms_run[1]:index=112\tnull\tnull\tnull\tnull\t0.79406,0.66418,0.79240,0.38305,0.78680,0.40127,0.47921,0.39278,0.74206,0.41998,0.39787,0.39067,0.66405,0.77124\n",
            "PSM\tSQKPVVVK\t85\tnull\tnull\tnull\tnull\t[MS, MS:1003281, Casanovo, 3.3.0]\t0.9995697339375814\tnull\tnull\t2.0\t442.78156\t442.78182781687997\tms_run[1]:index=114\tnull\tnull\tnull\tnull\t0.99972,0.99941,0.99976,0.99974,0.99968,0.99975,0.99852,0.99978\n",
            "PSM\tNPTYRPR\t86\tnull\tnull\tnull\tnull\t[MS, MS:1003281, Casanovo, 3.3.0]\t0.9987846538424492\tnull\tnull\t2.0\t452.2438\t452.24339681687997\tms_run[1]:index=115\tnull\tnull\tnull\tnull\t0.99846,0.99870,0.99934,0.99935,0.99651,0.99939,0.99917\n",
            "PSM\tKYEEVAR\t87\tnull\tnull\tnull\tnull\t[MS, MS:1003281, Casanovo, 3.3.0]\t0.9984245970845222\tnull\tnull\t2.0\t447.7375\t447.73761731688006\tms_run[1]:index=116\tnull\tnull\tnull\tnull\t0.99916,0.99902,0.99919,0.99713,0.99533,0.99919,0.99920\n",
            "PSM\tLGHDAYR\t88\tnull\tnull\tnull\tnull\t[MS, MS:1003281, Casanovo, 3.3.0]\t0.9961759299039841\tnull\tnull\t2.0\t416.20963\t416.20902731688005\tms_run[1]:index=117\tnull\tnull\tnull\tnull\t0.99797,0.98804,0.99783,0.99332,0.99809,0.99799,0.99808\n",
            "PSM\tC+57.021FNKPEDK\t89\tnull\tnull\tnull\tnull\t[MS, MS:1003281, Casanovo, 3.3.0]\t0.9980519347720676\tnull\tnull\t2.0\t519.2398\t519.23966681688\tms_run[1]:index=118\tnull\tnull\tnull\tnull\t0.99902,0.99333,0.99815,0.99903,0.99901,0.99787,0.99802,0.99902\n",
            "PSM\tLSRPGDSDDSR\t90\tnull\tnull\tnull\tnull\t[MS, MS:1003281, Casanovo, 3.3.0]\t0.7884626096735398\tnull\tnull\t2.0\t602.7813\t602.7812723168798\tms_run[1]:index=120\tnull\tnull\tnull\tnull\t0.45351,0.89420,0.88087,0.85257,0.89371,0.41221,0.61263,0.89370,0.88873,0.89161,0.89359\n",
            "PSM\tVPSPGFVGR\t91\tnull\tnull\tnull\tnull\t[MS, MS:1003281, Casanovo, 3.3.0]\t0.9032403826713562\tnull\tnull\t2.0\t458.25607\t458.25597731688\tms_run[1]:index=121\tnull\tnull\tnull\tnull\t0.86910,0.90155,0.68955,0.86991,0.95148,0.95154,0.95160,0.95159,0.94445\n",
            "PSM\tAALTHQELEEAEKR\t92\tnull\tnull\tnull\tnull\t[MS, MS:1003281, Casanovo, 3.3.0]\t-0.3369120687246323\tnull\tnull\t2.0\t812.4254\t812.9180968168799\tms_run[1]:index=122\tnull\tnull\tnull\tnull\t0.82240,0.82421,0.59807,0.39916,0.46615,0.49432,0.49307,0.81001,0.81070,0.45903,0.66493,0.77114,0.67016,0.83144\n",
            "PSM\tQGVLTHGR\t93\tnull\tnull\tnull\tnull\t[MS, MS:1003281, Casanovo, 3.3.0]\t0.9996756845050387\tnull\tnull\t2.0\t434.24365\t434.24339731688\tms_run[1]:index=123\tnull\tnull\tnull\tnull\t0.99927,0.99968,0.99984,0.99984,0.99984,0.99983,0.99983,0.99916\n",
            "PSM\tHQTHELRK\t94\tnull\tnull\tnull\tnull\t[MS, MS:1003281, Casanovo, 3.3.0]\t0.8325657678974999\tnull\tnull\t2.0\t524.7867\t524.7859603168799\tms_run[1]:index=124\tnull\tnull\tnull\tnull\t0.71450,0.55243,0.74899,0.90502,0.91622,0.91610,0.90737,0.91619\n",
            "PSM\tRC+57.021DELTR\t95\tnull\tnull\tnull\tnull\t[MS, MS:1003281, Casanovo, 3.3.0]\t0.9900595843791962\tnull\tnull\t2.0\t475.22992\t475.22962931688\tms_run[1]:index=126\tnull\tnull\tnull\tnull\t0.96142,0.99497,0.99501,0.99382,0.99025,0.99501,0.99502\n"
          ]
        }
      ],
      "source": [
        "! cat sample_file.mztab"
      ]
    }
  ],
  "metadata": {
    "colab": {
      "provenance": [],
      "include_colab_link": true
    },
    "gpuClass": "standard",
    "kernelspec": {
      "display_name": "Python 3",
      "name": "python3"
    },
    "language_info": {
      "name": "python"
    },
    "accelerator": "GPU"
  },
  "nbformat": 4,
  "nbformat_minor": 0
}